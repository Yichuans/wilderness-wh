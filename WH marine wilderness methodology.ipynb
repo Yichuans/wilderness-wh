{
 "cells": [
  {
   "cell_type": "markdown",
   "metadata": {},
   "source": [
    "# Methodology for the marine wilderness analysis\n",
    "\n",
    "---\n",
    "## The data\n",
    "The [cumulative marine pressure](http://www.nature.com/ncomms/2015/150714/ncomms8615/full/ncomms8615.html) data (hereafter referred to as *the Marine Data* unless otherwise specified) was used as the aggregated indicator for wilderness in the marine realm.\n",
    "\n",
    "## [The methods](./wilderness_analysis.ipynb)\n",
    "Given the explorative nature of this analysis, i.e., the pressure threshold value under which marine areas are considered wilderness areas needs to be tried and tested, and that this value may change, it is imperative a sustainable method be utilised so that upon the change of such a threshold, subsequent iterations/calculations require minimal repetitino, especially spatial analysis that are usually costly in time and prone to error.\n",
    "\n",
    "- **Preparing the input data**\n",
    "\n",
    "    With the potential change in threshold value in mind, the input data were prepared as follows:\n",
    "    - the Marine Data\n",
    "    - within the bounds of the EEZ,compilation of a *synthesized* biogeography layer that incorporates the MEOW ([Marine Ecoregion of the World](http://bioscience.oxfordjournals.org/content/57/7/573.abstract)), up to 200 meter depth, MEOW up to 200 nautical miles, and [Pelagic Provinces](http://nora.nerc.ac.uk/18017/). The idea of such a layer is to defer the decision of which base units to group (for example, identifying gaps in MEOW or Pelagic or anything with EEZ regardless) at a later stage. The end result is a spatially disjoint boundaries with shared attributes. More details can be found in the [detailed methodology notebook](./wilderness_analysis.ipynb)\n",
    "    - remove Antarctica in the biogeography, as the World Heritage Convention does not currently apply\n",
    "    - a marine subset of World Hertage sites (47 sites)\n",
    "    - the intersection of the biogeography layer and the marine World Heritage sites\n",
    "\n",
    "\n",
    "- **Clipping rasters**\n",
    "\n",
    "    Each feature of the above biogeography data was programatically used to clip a part of the Marine Data based on its spatial extent. The clipped raster data was then converted into a flattened one dimentional array, as subsequent analysis would be non-spatial. The same was done for the marine World Heritage sites and its intersection with the biogeography data.\n",
    "    \n",
    "    \n",
    "- **Exploring thresholds**\n",
    "\n",
    "    The threshold of classifying marine wilderness value was determined by using the 10 percentile value for all marine areas within EEZ. This value is empirical as it was chosen by comparing threshold values at 1, 3, 5, and 10 percentiles, and comparing distribution of wilderness extent with existing marine World Heritage sites. The 10% was decided as it reasonably highlights areas of marine wilderness per expert knowledge.\n",
    "\n",
    "\n",
    "- **Small multiples**\n",
    "\n",
    "    After multiplying the cell size for each qualifying pixel (as defined by the threshold) within each feature and grouping them, the total wilderness area of the feature was calculated. Similarly, by grouping features under the same province (or WH site), the total wilderness area and its percentage in relation to the province could be easily computed without running any spatial analysis. \n",
    "\n",
    "Step by step analysis is included in the [detailed methodology notebook](./wilderness_analysis.ipynb)\n",
    "\n",
    "##  Observations of preliminary results\n",
    "The distribution of marine wilderness areas within EEZ (green pixels below, as defined by the top 10% least pressured areas within EEZ, excluding Antarctica).\n",
    "![dist-map](dist_EEZ.png)\n",
    "Here is the overlay of existing marine World Heritage sites and marine wilderness areas. It seems quite apparent that large parts of the existing wilderness remains to be explored...\n",
    "![dist-map-wh](dist_EEZ_WH.png)"
   ]
  },
  {
   "cell_type": "markdown",
   "metadata": {},
   "source": [
    "**Top 20 MEOW (200m + 200nm) Provinces, by percentage of wilderness area**\n",
    "\n",
    "`per_ltt`: percentage of less than threshold area, i.e. percentage of wilderness area in relation to the total area of the province"
   ]
  },
  {
   "cell_type": "code",
   "execution_count": 21,
   "metadata": {
    "collapsed": false
   },
   "outputs": [
    {
     "name": "stdout",
     "output_type": "stream",
     "text": [
      "                                PROVINCE   per_ltt\n",
      "24                             Marquesas  0.681158\n",
      "45              Subantarctic New Zealand  0.664097\n",
      "44                  Subantarctic Islands  0.528809\n",
      "3                                 Arctic  0.467926\n",
      "41                  Southern New Zealand  0.340892\n",
      "1                      Amsterdam-St Paul  0.303475\n",
      "8                      Central Polynesia  0.242988\n",
      "29            Northeast Australian Shelf  0.238981\n",
      "34                           Sahul Shelf  0.209192\n",
      "35                            Scotia Sea  0.161785\n",
      "27                                  None  0.159536\n",
      "28                    North Brazil Shelf  0.102526\n",
      "40                   Southeast Polynesia  0.082473\n",
      "23                            Magellanic  0.079355\n",
      "54     Warm Temperate Northwest Atlantic  0.078015\n",
      "57  Warm Temperate Southwestern Atlantic  0.071286\n",
      "20      Juan Fern ndez and Desventuradas  0.069873\n",
      "33              Red Sea and Gulf of Aden  0.059408\n",
      "48                 Tropical East Pacific  0.059041\n",
      "15                             Galapagos  0.054821\n"
     ]
    }
   ],
   "source": [
    "import pandas as pd\n",
    "a = pd.read_csv('export_meow_province.csv',encoding='Latin1')\n",
    "print(a.sort_values('per_ltt', ascending=False)[['PROVINCE', 'per_ltt']].head(20))\n",
    "del a"
   ]
  },
  {
   "cell_type": "markdown",
   "metadata": {},
   "source": [
    "**MEOW (200m + 200nm) gaps, by percentage of wilderness area covered by existing WH sites**\n",
    "\n",
    "It is worth noting that although MEW provinces may have a high number of marine WH sites, their wilderness area is not necessarily represented by them. For example, Northern European Seas boasts four WH sites, however, only 5.5% of wilderness area in this province is covered by WH; while Northeast Australian Shelf, having only one WH site, has most its wilderness area inside the WH site (82%)"
   ]
  },
  {
   "cell_type": "code",
   "execution_count": 22,
   "metadata": {
    "collapsed": false
   },
   "outputs": [
    {
     "name": "stdout",
     "output_type": "stream",
     "text": [
      "                                PROVINCE  per_wilderness_covered_by_WH  num_wh\n",
      "59         West Central Australian Shelf                      0.974230     2.0\n",
      "29            Northeast Australian Shelf                      0.820772     1.0\n",
      "12         East Central Australian Shelf                      0.216204     1.0\n",
      "58               West African Transition                      0.169010     1.0\n",
      "53      Warm Temperate Northeast Pacific                      0.085135     2.0\n",
      "30                Northern European Seas                      0.055703     4.0\n",
      "15                             Galapagos                      0.042391     1.0\n",
      "32            Northwest Australian Shelf                      0.031749     1.0\n",
      "47                         Tristan Gough                      0.028653     1.0\n",
      "17                                Hawaii                      0.020901     1.0\n",
      "8                      Central Polynesia                      0.020306     1.0\n",
      "52         Tropical Southwestern Pacific                      0.014708     2.0\n",
      "22                            Lusitanian                      0.013029     1.0\n",
      "9       Cold Temperate Northeast Pacific                      0.010834     1.0\n",
      "45              Subantarctic New Zealand                      0.010307     1.0\n",
      "44                  Subantarctic Islands                      0.007184     2.0\n",
      "48                 Tropical East Pacific                      0.005523     4.0\n",
      "33              Red Sea and Gulf of Aden                      0.002843     1.0\n",
      "14                Eastern Coral Triangle                      0.002259     1.0\n",
      "41                  Southern New Zealand                      0.001954     1.0\n",
      "18                     Java Transitional                      0.001573     1.0\n",
      "3                                 Arctic                      0.000970     1.0\n",
      "37                       South China Sea                      0.000878     1.0\n",
      "62                  Western Indian Ocean                      0.000208     2.0\n",
      "51        Tropical Southwestern Atlantic                      0.000134     1.0\n",
      "23                            Magellanic                      0.000127     1.0\n",
      "26                     Mediterranean Sea                      0.000078     1.0\n",
      "50         Tropical Northwestern Pacific                      0.000049     1.0\n",
      "49        Tropical Northwestern Atlantic                      0.000012     1.0\n",
      "11      Cold Temperate Northwest Pacific                      0.000012     1.0\n",
      "..                                   ...                           ...     ...\n",
      "40                   Southeast Polynesia                      0.000000     0.0\n",
      "60           West and South Indian Shelf                      0.000000     0.0\n",
      "57  Warm Temperate Southwestern Atlantic                      0.000000     0.0\n",
      "46                           Sunda Shelf                      0.000000     0.0\n",
      "55      Warm Temperate Northwest Pacific                      0.000000     0.0\n",
      "54     Warm Temperate Northwest Atlantic                      0.000000     0.0\n",
      "56   Warm Temperate Southeastern Pacific                      0.000000     0.0\n",
      "0                                Agulhas                      0.000000     0.0\n",
      "39            Southeast Australian Shelf                      0.000000     0.0\n",
      "38                        South Kuroshio                      0.000000     0.0\n",
      "2                                Andaman                      0.000000     0.0\n",
      "4                          Bay of Bengal                      0.000000     0.0\n",
      "5                               Benguela                      0.000000     0.0\n",
      "6                              Black Sea                      0.000000     0.0\n",
      "7           Central Indian Ocean Islands                      0.000000     0.0\n",
      "10     Cold Temperate Northwest Atlantic                      0.000000     0.0\n",
      "13                         Easter Island                      0.000000     0.0\n",
      "16                        Gulf of Guinea                      0.000000     0.0\n",
      "19      Juan Fernandez and Desventuradas                      0.000000     0.0\n",
      "20      Juan Fern ndez and Desventuradas                      0.000000     0.0\n",
      "21         Lord Howe and Norfolk Islands                      0.000000     0.0\n",
      "24                             Marquesas                      0.000000     0.0\n",
      "25   Marshall, Gilbert and Ellis Islands                      0.000000     0.0\n",
      "27                                  None                      0.000000     0.0\n",
      "28                    North Brazil Shelf                      0.000000     0.0\n",
      "1                      Amsterdam-St Paul                      0.000000     0.0\n",
      "34                           Sahul Shelf                      0.000000     0.0\n",
      "35                            Scotia Sea                      0.000000     0.0\n",
      "36                        Somali/Arabian                      0.000000     0.0\n",
      "31                  Northern New Zealand                      0.000000     0.0\n",
      "\n",
      "[63 rows x 3 columns]\n"
     ]
    }
   ],
   "source": [
    "a = pd.read_csv('export_gap_meow_province.csv', encoding='Latin1')\n",
    "# print(a.columns)\n",
    "print(a.sort_values('per_wilderness_covered_by_WH', ascending=False)[['PROVINCE', 'per_wilderness_covered_by_WH', 'num_wh']])\n",
    "del a"
   ]
  }
 ],
 "metadata": {
  "kernelspec": {
   "display_name": "Python 3",
   "language": "python",
   "name": "python3"
  },
  "language_info": {
   "codemirror_mode": {
    "name": "ipython",
    "version": 3
   },
   "file_extension": ".py",
   "mimetype": "text/x-python",
   "name": "python",
   "nbconvert_exporter": "python",
   "pygments_lexer": "ipython3",
   "version": "3.4.4"
  }
 },
 "nbformat": 4,
 "nbformat_minor": 0
}
