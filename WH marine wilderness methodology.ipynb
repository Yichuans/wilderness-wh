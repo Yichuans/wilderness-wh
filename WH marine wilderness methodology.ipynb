{
 "cells": [
  {
   "cell_type": "markdown",
   "metadata": {},
   "source": [
    "# Methodology for the marine wilderness analysis\n",
    "\n",
    "---\n",
    "## The data\n",
    "The [cumulative marine pressure](http://www.nature.com/ncomms/2015/150714/ncomms8615/full/ncomms8615.html) data (hereafter referred to as *the Marine Data* unless otherwise specified) was used as the aggregated indicator for wilderness in the marine realm.\n",
    "\n",
    "## The methods\n",
    "Given the explorative nature of this analysis, i.e., the pressure threshold value under which marine areas are considered wilderness areas needs to be tried and tested, and that this value may change, it is imperative a sustainable method be utilised so that upon the change of such a threshold, subsequent iterations/calculations require minimal repetitino, especially spatial analysis that are usually costly in time and prone to error.\n",
    "\n",
    "- **Preparing the input data**\n",
    "\n",
    "    With the potential change in threshold value in mind, the input data were prepared as follows:\n",
    "    - the Marine Data\n",
    "    - within the bounds of the EEZ,compilation of a *synthesized* biogeography layer that incorporates the MEOW ([Marine Ecoregion of the World](http://bioscience.oxfordjournals.org/content/57/7/573.abstract)), up to 200 meter depth, MEOW up to 200 nautical miles, and [Pelagic Provinces](http://nora.nerc.ac.uk/18017/). The idea of such a layer is to defer the decision of which base units to group (for example, identifying gaps in MEOW or Pelagic or anything with EEZ regardless) at a later stage. The end result is a spatially disjoint boundaries with shared attributes. More details can be found in the [detailed methodology notebook](./wilderness_analysis.ipynb)\n",
    "    - remove Antarctica in the biogeography, as the World Heritage Convention does not currently apply\n",
    "    - a marine subset of World Hertage sites (47 sites)\n",
    "    - the intersection of the biogeography layer and the marine World Heritage sites\n",
    "\n",
    "\n",
    "- **Clipping rasters**\n",
    "\n",
    "    Each feature of the above biogeography data was programatically used to clip a part of the Marine Data based on its spatial extent. The clipped raster data was then converted into a flattened one dimentional array, as subsequent analysis would be non-spatial. The same was done for the marine World Heritage sites and its intersection with the biogeography data.\n",
    "    \n",
    "    \n",
    "- **Exploring thresholds**\n",
    "\n",
    "    The threshold of classifying marine wilderness value was determined by using the 10 percentile value for all marine areas within EEZ. This value is empirical as it was chosen by comparing threshold values at 1, 3, 5, and 10 percentiles, and comparing distribution of wilderness extent with existing marine World Heritage sites. The 10% was decided as it reasonably highlights areas of marine wilderness per expert knowledge.\n",
    "\n",
    "\n",
    "- **Small multiples**\n",
    "\n",
    "    After multiplying the cell size for each qualifying pixel (as defined by the threshold) within each feature and grouping them, the total wilderness area of the feature was calculated. Similarly, by grouping features under the same province (or WH site), the total wilderness area and its percentage in relation to the province could be easily computed without running any spatial analysis. \n",
    "\n",
    "Step by step analysis is included in the [detailed methodology notebook](./wilderness_analysis.ipynb)\n",
    "\n",
    "##  Observations of preliminary result"
   ]
  },
  {
   "cell_type": "code",
   "execution_count": null,
   "metadata": {
    "collapsed": true
   },
   "outputs": [],
   "source": []
  }
 ],
 "metadata": {
  "kernelspec": {
   "display_name": "Python 3",
   "language": "python",
   "name": "python3"
  },
  "language_info": {
   "codemirror_mode": {
    "name": "ipython",
    "version": 3
   },
   "file_extension": ".py",
   "mimetype": "text/x-python",
   "name": "python",
   "nbconvert_exporter": "python",
   "pygments_lexer": "ipython3",
   "version": "3.4.4"
  }
 },
 "nbformat": 4,
 "nbformat_minor": 0
}
