{
 "cells": [
  {
   "cell_type": "markdown",
   "metadata": {},
   "source": [
    "# Wilderness World Heritage analysis for the marine environment (no antarctica)\n",
    "---\n",
    "Based on the discussion with Bastian.\n",
    "\n",
    "The spatial analysis was done outside of this notebook. In a nutshell, the spatial component dealt with the question of how much of [cumulative marine pressure](http://www.nature.com/ncomms/2015/150714/ncomms8615/full/ncomms8615.html) there is in each unit (see below for such a hypothetical biogeographic classification). The analysis was carried out in such a way that the aggregation happens in the later stage and if thresholds are to be changed (very likely due to the explorative nature of such exercise), it requires minimum efforts without having to re-run any spatial analysis, which are time-consuming and prone to error."
   ]
  },
  {
   "cell_type": "code",
   "execution_count": 1,
   "metadata": {
    "collapsed": false
   },
   "outputs": [
    {
     "name": "stderr",
     "output_type": "stream",
     "text": [
      "C:\\Users\\yichuans\\AppData\\Local\\Continuum\\Anaconda3\\lib\\site-packages\\pandas\\computation\\__init__.py:19: UserWarning: The installed version of numexpr 2.4.4 is not supported in pandas and will be not be used\n",
      "\n",
      "  UserWarning)\n"
     ]
    }
   ],
   "source": [
    "# load default libraries\n",
    "import os, sys\n",
    "import matplotlib.pyplot as plt\n",
    "import numpy as np\n",
    "import pandas as pd\n",
    "\n",
    "# make sure gdal is correctly installed\n",
    "from osgeo import gdal\n",
    "import gc\n",
    "\n",
    "%matplotlib inline"
   ]
  },
  {
   "cell_type": "markdown",
   "metadata": {},
   "source": [
    "# Get quantiles from the input raster data"
   ]
  },
  {
   "cell_type": "markdown",
   "metadata": {},
   "source": [
    "It is necessary to load the original raster in order to calculateits quantiles."
   ]
  },
  {
   "cell_type": "code",
   "execution_count": 2,
   "metadata": {
    "collapsed": true
   },
   "outputs": [],
   "source": [
    "def raster2array(rasterfn):\n",
    "    raster = gdal.Open(rasterfn)\n",
    "    band = raster.GetRasterBand(1)\n",
    "    return band.ReadAsArray()"
   ]
  },
  {
   "cell_type": "code",
   "execution_count": 3,
   "metadata": {
    "collapsed": true
   },
   "outputs": [],
   "source": [
    "g_array = raster2array('global_cumul_impact_2013_all_layers.tif')"
   ]
  },
  {
   "cell_type": "code",
   "execution_count": 4,
   "metadata": {
    "collapsed": true
   },
   "outputs": [],
   "source": [
    "g_array_f = g_array.flatten()"
   ]
  },
  {
   "cell_type": "code",
   "execution_count": 5,
   "metadata": {
    "collapsed": false
   },
   "outputs": [
    {
     "name": "stdout",
     "output_type": "stream",
     "text": [
      "The total number of non-zero values in the raw raster dataset: 414635567\n"
     ]
    }
   ],
   "source": [
    "print('The total number of non-zero values in the raw raster dataset:', g_array_f.size - (g_array_f==0).sum())\n",
    "\n",
    "## in fact the following should be used for testing equality of float dtypes. Because the result remains\\\n",
    "## the same thus the simpler option is used.\n",
    "\n",
    "## (np.isclose(g_array_f, 0.0)).sum()"
   ]
  },
  {
   "cell_type": "markdown",
   "metadata": {},
   "source": [
    "The number of non-zero values is notably different from esri's calculation, which stands at 414,347,791, less than what's calculated here and is 300,000 fewer zeros. This suggests esri may be using a bigger tolerence value, i.e. what is considered small enough to be regarded as zero .\n",
    "\n",
    "Now, get the quantiles... this threshold is subject to change. For the time being, arbitary values of 1%, 3%, 5% and 10% are used."
   ]
  },
  {
   "cell_type": "code",
   "execution_count": 6,
   "metadata": {
    "collapsed": false
   },
   "outputs": [],
   "source": [
    "## the percentile function applied to the sliced array, i.e., those with values greater than 0\n",
    "quantiles = [np.percentile(g_array_f[~(g_array_f == 0)], quantile) for quantile in [1,3,5,10]]"
   ]
  },
  {
   "cell_type": "code",
   "execution_count": 7,
   "metadata": {
    "collapsed": false
   },
   "outputs": [
    {
     "data": {
      "text/plain": [
       "[0.67987793684005737,\n",
       " 1.2613298869132996,\n",
       " 1.5064566135406494,\n",
       " 1.8049463033676147]"
      ]
     },
     "execution_count": 7,
     "metadata": {},
     "output_type": "execute_result"
    }
   ],
   "source": [
    "quantiles"
   ]
  },
  {
   "cell_type": "markdown",
   "metadata": {},
   "source": [
    "---"
   ]
  },
  {
   "cell_type": "markdown",
   "metadata": {},
   "source": [
    "# Analyse intersection result"
   ]
  },
  {
   "cell_type": "markdown",
   "metadata": {},
   "source": [
    "The hypothetical biogeographical classification of the marine environmental within EEZ is described as a combination of MEOW (Marine Ecoregional of the World), its visual representation (called hereafter MEOW visual) up to 200 nautical miles and the World's pelagic provinces. The spatial data was prepared in a way such that from the coastline outwards disjoint polygons represents: MEOW (up to 200 meter depth, inner/red), MEOW visual overlaps with pelagic provinces (middle/green), pelagic provinces that do not overlap with MEOW visual (outer/blue). This is purely a spatial aggregation based on the above data and the World Vector Shoreline EEZ. See below for example.\n",
    "\n",
    "![title](classification.PNG)\n",
    "\n",
    "Load the `input_data` table, which describes the intersection between the marine pressure layer and the marine ecoregion/pelagic provinces classification. The `input_attr` table contains information on the relationship between `OBJECTID` and each raster pixel value.\n",
    "- `OBJECTID` (one) - pixel value (many)\n",
    "- `OBJECTID` (many) - attr: Province, Ecoregion, and Realm, categories (one)\n",
    "Each pixel is of height and width: 934.478 meter, making each pixel in area 0.873 $km^2$"
   ]
  },
  {
   "cell_type": "code",
   "execution_count": 8,
   "metadata": {
    "collapsed": false
   },
   "outputs": [
    {
     "name": "stdout",
     "output_type": "stream",
     "text": [
      "0.8732491324839999\n"
     ]
    }
   ],
   "source": [
    "# calculate cell-size in sqkm2\n",
    "cell_size = 934.478*934.478/1000000\n",
    "print(cell_size)"
   ]
  },
  {
   "cell_type": "code",
   "execution_count": 9,
   "metadata": {
    "collapsed": true
   },
   "outputs": [],
   "source": [
    "# the OBJECTID - ras_val table\n",
    "input_data = pd.read_csv('result.csv')"
   ]
  },
  {
   "cell_type": "code",
   "execution_count": 10,
   "metadata": {
    "collapsed": true
   },
   "outputs": [],
   "source": [
    "# the attribute table containing information about province etc\n",
    "input_attr = pd.read_csv('attr.csv')"
   ]
  },
  {
   "cell_type": "code",
   "execution_count": 11,
   "metadata": {
    "collapsed": false
   },
   "outputs": [
    {
     "name": "stdout",
     "output_type": "stream",
     "text": [
      "Threshold cut-off value: 0.67987793684\n",
      "Threshold cut-off value: 1.26132988691\n",
      "Threshold cut-off value: 1.50645661354\n",
      "Threshold cut-off value: 1.80494630337\n"
     ]
    }
   ],
   "source": [
    "print('\\n'.join(['Threshold cut-off value: '+ str(threshold) for threshold in quantiles]))\n"
   ]
  },
  {
   "cell_type": "code",
   "execution_count": 12,
   "metadata": {
    "collapsed": false
   },
   "outputs": [],
   "source": [
    "# total count of pixels per OBJECTID\n",
    "result_count = input_data.groupby('OBJECTID').count().reset_index()"
   ]
  },
  {
   "cell_type": "markdown",
   "metadata": {},
   "source": [
    "Here I created four result tables containing only pixels that meet the criteria as specified by different thresholds"
   ]
  },
  {
   "cell_type": "code",
   "execution_count": 13,
   "metadata": {
    "collapsed": false
   },
   "outputs": [],
   "source": [
    "# filter result only in the top 1, 3, 5, 10 percentile (of least impacted marine areas)\n",
    "result_1, result_3, result_5, result_10 = \\\n",
    "[input_data[input_data.ras_val <= threshold].groupby('OBJECTID').count().reset_index() for threshold in quantiles]"
   ]
  },
  {
   "cell_type": "markdown",
   "metadata": {},
   "source": [
    "The next step will be to apply the categorisations in the `input_attr` table. Replace `result10` result table if other threshold is used"
   ]
  },
  {
   "cell_type": "code",
   "execution_count": 14,
   "metadata": {
    "collapsed": false
   },
   "outputs": [],
   "source": [
    "# join base to the attribute\n",
    "attr_merge = pd.merge(input_attr, result_count, on = 'OBJECTID')"
   ]
  },
  {
   "cell_type": "code",
   "execution_count": 15,
   "metadata": {
    "collapsed": false
   },
   "outputs": [],
   "source": [
    "# join result to the above table\n",
    "attr_merge_10 = pd.merge(attr_merge, result_10, how = 'left', on ='OBJECTID', suffixes = ('_base', '_result'))"
   ]
  },
  {
   "cell_type": "code",
   "execution_count": 16,
   "metadata": {
    "collapsed": true
   },
   "outputs": [],
   "source": [
    "# fill ras_val_result's NaN with 0, province and realms with None. This should happen earlier\n",
    "attr_merge_10['ras_val_result'].fillna(0, inplace=True)\n",
    "attr_merge_10['PROVINCE'].fillna('None', inplace=True)\n",
    "attr_merge_10['PROVINCE_P'].fillna('None', inplace=True)"
   ]
  },
  {
   "cell_type": "code",
   "execution_count": 17,
   "metadata": {
    "collapsed": true
   },
   "outputs": [],
   "source": [
    "# apply an aggregate function to each sub dataframe\n",
    "def apply_func(group):\n",
    "    overlap = group['ras_val_result'].sum()*cell_size # in sqkm\n",
    "    base = group['ras_val_base'].sum()*cell_size\n",
    "    per = overlap/base\n",
    "    # can have multiple columns as a result, if returened as pd.series\n",
    "    return pd.Series([overlap, per, base], index=['less_than_threshold', 'per_ltt', 'base'])"
   ]
  },
  {
   "cell_type": "code",
   "execution_count": 18,
   "metadata": {
    "collapsed": false
   },
   "outputs": [
    {
     "name": "stdout",
     "output_type": "stream",
     "text": [
      "             PROVINCE                  PROVINCE_P        category  \\\n",
      "0             Agulhas             Agulhas Current  pelagic_meow_v   \n",
      "1             Agulhas            Benguela Current  pelagic_meow_v   \n",
      "2             Agulhas                        None        meow200m   \n",
      "3             Agulhas      South Central Atlantic  pelagic_meow_v   \n",
      "4   Amsterdam-St Paul                        None        meow200m   \n",
      "5   Amsterdam-St Paul       Southern Indian Ocean  pelagic_meow_v   \n",
      "6   Amsterdam-St Paul  Southern Subtropical Front  pelagic_meow_v   \n",
      "7             Andaman                        None        meow200m   \n",
      "8             Andaman       Northern Indian Ocean  pelagic_meow_v   \n",
      "9              Arctic                      Arctic  pelagic_meow_v   \n",
      "10             Arctic                        None        meow200m   \n",
      "11             Arctic          Subarctic Atlantic  pelagic_meow_v   \n",
      "12             Arctic           Subarctic Pacific  pelagic_meow_v   \n",
      "13      Bay of Bengal                        None        meow200m   \n",
      "14      Bay of Bengal       Northern Indian Ocean  pelagic_meow_v   \n",
      "15           Benguela            Benguela Current  pelagic_meow_v   \n",
      "16           Benguela         Equatorial Atlantic  pelagic_meow_v   \n",
      "17           Benguela                        None        meow200m   \n",
      "18           Benguela      South Central Atlantic  pelagic_meow_v   \n",
      "19          Black Sea                   Black Sea  pelagic_meow_v   \n",
      "\n",
      "    less_than_threshold   per_ltt          base  \n",
      "0          4.366246e+00  0.000008  5.390357e+05  \n",
      "1          0.000000e+00  0.000000  2.824088e+04  \n",
      "2          1.244380e+03  0.010160  1.224828e+05  \n",
      "3          0.000000e+00  0.000000  6.505706e+02  \n",
      "4          3.999481e+02  0.442512  9.038129e+02  \n",
      "5          6.390088e+04  0.167804  3.808065e+05  \n",
      "6          4.591544e+03  0.328358  1.398334e+04  \n",
      "7          2.069600e+03  0.006710  3.084360e+05  \n",
      "8          6.841034e+03  0.004711  1.452095e+06  \n",
      "9          1.989649e+06  0.573653  3.468383e+06  \n",
      "10         3.042846e+06  0.437750  6.951104e+06  \n",
      "11         2.476709e+04  0.023380  1.059351e+06  \n",
      "12         1.109026e+03  0.013927  7.963072e+04  \n",
      "13         1.846922e+03  0.006514  2.835335e+05  \n",
      "14         0.000000e+00  0.000000  6.244395e+05  \n",
      "15         1.630356e+03  0.002477  6.583294e+05  \n",
      "16         0.000000e+00  0.000000  1.454134e+04  \n",
      "17         4.329569e+03  0.026932  1.607599e+05  \n",
      "18         0.000000e+00  0.000000  8.828549e+02  \n",
      "19         0.000000e+00  0.000000  2.921892e+05  \n"
     ]
    }
   ],
   "source": [
    "# final dataframe\n",
    "result_agg_10 = attr_merge_10.groupby(['PROVINCE', 'PROVINCE_P', 'category']).apply(apply_func).reset_index()\n",
    "print(result_agg_10.head(20))"
   ]
  },
  {
   "cell_type": "markdown",
   "metadata": {
    "collapsed": true
   },
   "source": [
    "Further aggregation could be applied here."
   ]
  },
  {
   "cell_type": "markdown",
   "metadata": {},
   "source": [
    "---\n",
    "## Visualisation and exploring results"
   ]
  },
  {
   "cell_type": "code",
   "execution_count": 19,
   "metadata": {
    "collapsed": true
   },
   "outputs": [],
   "source": [
    "import seaborn as sns"
   ]
  },
  {
   "cell_type": "code",
   "execution_count": 20,
   "metadata": {
    "collapsed": false
   },
   "outputs": [
    {
     "data": {
      "text/plain": [
       "<seaborn.axisgrid.FacetGrid at 0xd7de390>"
      ]
     },
     "execution_count": 20,
     "metadata": {},
     "output_type": "execute_result"
    },
    {
     "data": {
      "image/png": "[encoded data removed]",
      "text/plain": [
       "<matplotlib.figure.Figure at 0xd7de588>"
      ]
     },
     "metadata": {},
     "output_type": "display_data"
    }
   ],
   "source": [
    "g = sns.FacetGrid(result_agg_10, col=\"category\")\n",
    "g.map(plt.hist, 'per_ltt', bins=50, log=True)"
   ]
  },
  {
   "cell_type": "code",
   "execution_count": 21,
   "metadata": {
    "collapsed": false
   },
   "outputs": [
    {
     "data": {
      "text/plain": [
       "<matplotlib.axes._subplots.AxesSubplot at 0xe696208>"
      ]
     },
     "execution_count": 21,
     "metadata": {},
     "output_type": "execute_result"
    },
    {
     "data": {
      "image/png": "[encoded data removed]",
      "text/plain": [
       "<matplotlib.figure.Figure at 0xe2794a8>"
      ]
     },
     "metadata": {},
     "output_type": "display_data"
    }
   ],
   "source": [
    "# MEOW province (200m and 200 nautical combined)\n",
    "result_agg_10_province = attr_merge_10.groupby(['PROVINCE']).apply(apply_func).reset_index()\n",
    "sns.distplot(result_agg_10_province.per_ltt)"
   ]
  },
  {
   "cell_type": "code",
   "execution_count": 22,
   "metadata": {
    "collapsed": false,
    "scrolled": false
   },
   "outputs": [
    {
     "data": {
      "text/html": [
       "<div>\n",
       "<table border=\"1\" class=\"dataframe\">\n",
       "  <thead>\n",
       "    <tr style=\"text-align: right;\">\n",
       "      <th></th>\n",
       "      <th>PROVINCE</th>\n",
       "      <th>less_than_threshold</th>\n",
       "      <th>per_ltt</th>\n",
       "      <th>base</th>\n",
       "    </tr>\n",
       "  </thead>\n",
       "  <tbody>\n",
       "    <tr>\n",
       "      <th>45</th>\n",
       "      <td>Subantarctic New Zealand</td>\n",
       "      <td>4.179763e+05</td>\n",
       "      <td>0.538577</td>\n",
       "      <td>7.760748e+05</td>\n",
       "    </tr>\n",
       "    <tr>\n",
       "      <th>44</th>\n",
       "      <td>Subantarctic Islands</td>\n",
       "      <td>9.166182e+05</td>\n",
       "      <td>0.475282</td>\n",
       "      <td>1.928579e+06</td>\n",
       "    </tr>\n",
       "    <tr>\n",
       "      <th>3</th>\n",
       "      <td>Arctic</td>\n",
       "      <td>5.058372e+06</td>\n",
       "      <td>0.437633</td>\n",
       "      <td>1.155847e+07</td>\n",
       "    </tr>\n",
       "    <tr>\n",
       "      <th>24</th>\n",
       "      <td>Marquesas</td>\n",
       "      <td>2.148245e+05</td>\n",
       "      <td>0.289451</td>\n",
       "      <td>7.421788e+05</td>\n",
       "    </tr>\n",
       "    <tr>\n",
       "      <th>41</th>\n",
       "      <td>Southern New Zealand</td>\n",
       "      <td>3.443431e+05</td>\n",
       "      <td>0.238514</td>\n",
       "      <td>1.443703e+06</td>\n",
       "    </tr>\n",
       "    <tr>\n",
       "      <th>1</th>\n",
       "      <td>Amsterdam-St Paul</td>\n",
       "      <td>6.889237e+04</td>\n",
       "      <td>0.174105</td>\n",
       "      <td>3.956936e+05</td>\n",
       "    </tr>\n",
       "    <tr>\n",
       "      <th>35</th>\n",
       "      <td>Scotia Sea</td>\n",
       "      <td>1.239525e+05</td>\n",
       "      <td>0.153216</td>\n",
       "      <td>8.090068e+05</td>\n",
       "    </tr>\n",
       "    <tr>\n",
       "      <th>27</th>\n",
       "      <td>None</td>\n",
       "      <td>1.670900e+06</td>\n",
       "      <td>0.135338</td>\n",
       "      <td>1.234615e+07</td>\n",
       "    </tr>\n",
       "    <tr>\n",
       "      <th>8</th>\n",
       "      <td>Central Polynesia</td>\n",
       "      <td>5.474678e+05</td>\n",
       "      <td>0.114987</td>\n",
       "      <td>4.761112e+06</td>\n",
       "    </tr>\n",
       "    <tr>\n",
       "      <th>34</th>\n",
       "      <td>Sahul Shelf</td>\n",
       "      <td>1.502678e+05</td>\n",
       "      <td>0.108221</td>\n",
       "      <td>1.388526e+06</td>\n",
       "    </tr>\n",
       "    <tr>\n",
       "      <th>29</th>\n",
       "      <td>Northeast Australian Shelf</td>\n",
       "      <td>4.158587e+04</td>\n",
       "      <td>0.105917</td>\n",
       "      <td>3.926277e+05</td>\n",
       "    </tr>\n",
       "    <tr>\n",
       "      <th>28</th>\n",
       "      <td>North Brazil Shelf</td>\n",
       "      <td>7.344986e+04</td>\n",
       "      <td>0.073543</td>\n",
       "      <td>9.987333e+05</td>\n",
       "    </tr>\n",
       "    <tr>\n",
       "      <th>23</th>\n",
       "      <td>Magellanic</td>\n",
       "      <td>1.149755e+05</td>\n",
       "      <td>0.060529</td>\n",
       "      <td>1.899525e+06</td>\n",
       "    </tr>\n",
       "    <tr>\n",
       "      <th>33</th>\n",
       "      <td>Red Sea and Gulf of Aden</td>\n",
       "      <td>5.466889e+04</td>\n",
       "      <td>0.054509</td>\n",
       "      <td>1.002934e+06</td>\n",
       "    </tr>\n",
       "    <tr>\n",
       "      <th>54</th>\n",
       "      <td>Warm Temperate Northwest Atlantic</td>\n",
       "      <td>4.769949e+04</td>\n",
       "      <td>0.050981</td>\n",
       "      <td>9.356349e+05</td>\n",
       "    </tr>\n",
       "    <tr>\n",
       "      <th>40</th>\n",
       "      <td>Southeast Polynesia</td>\n",
       "      <td>2.738265e+05</td>\n",
       "      <td>0.047491</td>\n",
       "      <td>5.765861e+06</td>\n",
       "    </tr>\n",
       "    <tr>\n",
       "      <th>15</th>\n",
       "      <td>Galapagos</td>\n",
       "      <td>3.363057e+04</td>\n",
       "      <td>0.040044</td>\n",
       "      <td>8.398404e+05</td>\n",
       "    </tr>\n",
       "    <tr>\n",
       "      <th>57</th>\n",
       "      <td>Warm Temperate Southwestern Atlantic</td>\n",
       "      <td>4.109510e+04</td>\n",
       "      <td>0.039821</td>\n",
       "      <td>1.031990e+06</td>\n",
       "    </tr>\n",
       "    <tr>\n",
       "      <th>48</th>\n",
       "      <td>Tropical East Pacific</td>\n",
       "      <td>1.269870e+05</td>\n",
       "      <td>0.036277</td>\n",
       "      <td>3.500438e+06</td>\n",
       "    </tr>\n",
       "    <tr>\n",
       "      <th>6</th>\n",
       "      <td>Black Sea</td>\n",
       "      <td>1.412568e+04</td>\n",
       "      <td>0.030870</td>\n",
       "      <td>4.575791e+05</td>\n",
       "    </tr>\n",
       "  </tbody>\n",
       "</table>\n",
       "</div>"
      ],
      "text/plain": [
       "                                PROVINCE  less_than_threshold   per_ltt  \\\n",
       "45              Subantarctic New Zealand         4.179763e+05  0.538577   \n",
       "44                  Subantarctic Islands         9.166182e+05  0.475282   \n",
       "3                                 Arctic         5.058372e+06  0.437633   \n",
       "24                             Marquesas         2.148245e+05  0.289451   \n",
       "41                  Southern New Zealand         3.443431e+05  0.238514   \n",
       "1                      Amsterdam-St Paul         6.889237e+04  0.174105   \n",
       "35                            Scotia Sea         1.239525e+05  0.153216   \n",
       "27                                  None         1.670900e+06  0.135338   \n",
       "8                      Central Polynesia         5.474678e+05  0.114987   \n",
       "34                           Sahul Shelf         1.502678e+05  0.108221   \n",
       "29            Northeast Australian Shelf         4.158587e+04  0.105917   \n",
       "28                    North Brazil Shelf         7.344986e+04  0.073543   \n",
       "23                            Magellanic         1.149755e+05  0.060529   \n",
       "33              Red Sea and Gulf of Aden         5.466889e+04  0.054509   \n",
       "54     Warm Temperate Northwest Atlantic         4.769949e+04  0.050981   \n",
       "40                   Southeast Polynesia         2.738265e+05  0.047491   \n",
       "15                             Galapagos         3.363057e+04  0.040044   \n",
       "57  Warm Temperate Southwestern Atlantic         4.109510e+04  0.039821   \n",
       "48                 Tropical East Pacific         1.269870e+05  0.036277   \n",
       "6                              Black Sea         1.412568e+04  0.030870   \n",
       "\n",
       "            base  \n",
       "45  7.760748e+05  \n",
       "44  1.928579e+06  \n",
       "3   1.155847e+07  \n",
       "24  7.421788e+05  \n",
       "41  1.443703e+06  \n",
       "1   3.956936e+05  \n",
       "35  8.090068e+05  \n",
       "27  1.234615e+07  \n",
       "8   4.761112e+06  \n",
       "34  1.388526e+06  \n",
       "29  3.926277e+05  \n",
       "28  9.987333e+05  \n",
       "23  1.899525e+06  \n",
       "33  1.002934e+06  \n",
       "54  9.356349e+05  \n",
       "40  5.765861e+06  \n",
       "15  8.398404e+05  \n",
       "57  1.031990e+06  \n",
       "48  3.500438e+06  \n",
       "6   4.575791e+05  "
      ]
     },
     "execution_count": 22,
     "metadata": {},
     "output_type": "execute_result"
    }
   ],
   "source": [
    "result_agg_10_province.sort_values('per_ltt', ascending=False).head(20)"
   ]
  },
  {
   "cell_type": "code",
   "execution_count": 23,
   "metadata": {
    "collapsed": false
   },
   "outputs": [
    {
     "data": {
      "text/plain": [
       "<matplotlib.axes._subplots.AxesSubplot at 0xe47d710>"
      ]
     },
     "execution_count": 23,
     "metadata": {},
     "output_type": "execute_result"
    },
    {
     "data": {
      "image/png": "[encoded data removed]",
      "text/plain": [
       "<matplotlib.figure.Figure at 0xe2e64e0>"
      ]
     },
     "metadata": {},
     "output_type": "display_data"
    }
   ],
   "source": [
    "# pelagic province\n",
    "result_agg_10_pelagic = attr_merge_10.groupby(['PROVINCE_P']).apply(apply_func).reset_index()\n",
    "sns.distplot(result_agg_10_pelagic.per_ltt)"
   ]
  },
  {
   "cell_type": "code",
   "execution_count": 24,
   "metadata": {
    "collapsed": false
   },
   "outputs": [
    {
     "data": {
      "text/html": [
       "<div>\n",
       "<table border=\"1\" class=\"dataframe\">\n",
       "  <thead>\n",
       "    <tr style=\"text-align: right;\">\n",
       "      <th></th>\n",
       "      <th>PROVINCE_P</th>\n",
       "      <th>less_than_threshold</th>\n",
       "      <th>per_ltt</th>\n",
       "      <th>base</th>\n",
       "    </tr>\n",
       "  </thead>\n",
       "  <tbody>\n",
       "    <tr>\n",
       "      <th>3</th>\n",
       "      <td>Arctic</td>\n",
       "      <td>2.733379e+06</td>\n",
       "      <td>0.549666</td>\n",
       "      <td>4.972798e+06</td>\n",
       "    </tr>\n",
       "    <tr>\n",
       "      <th>2</th>\n",
       "      <td>Antarctic Polar Front</td>\n",
       "      <td>9.189594e+05</td>\n",
       "      <td>0.408765</td>\n",
       "      <td>2.248136e+06</td>\n",
       "    </tr>\n",
       "    <tr>\n",
       "      <th>35</th>\n",
       "      <td>Subantarctic</td>\n",
       "      <td>7.000655e+05</td>\n",
       "      <td>0.325243</td>\n",
       "      <td>2.152436e+06</td>\n",
       "    </tr>\n",
       "    <tr>\n",
       "      <th>1</th>\n",
       "      <td>Antarctic</td>\n",
       "      <td>4.741097e+05</td>\n",
       "      <td>0.260407</td>\n",
       "      <td>1.820650e+06</td>\n",
       "    </tr>\n",
       "    <tr>\n",
       "      <th>20</th>\n",
       "      <td>None</td>\n",
       "      <td>4.114343e+06</td>\n",
       "      <td>0.147879</td>\n",
       "      <td>2.782238e+07</td>\n",
       "    </tr>\n",
       "    <tr>\n",
       "      <th>33</th>\n",
       "      <td>Southern Subtropical Front</td>\n",
       "      <td>4.747480e+05</td>\n",
       "      <td>0.131448</td>\n",
       "      <td>3.611682e+06</td>\n",
       "    </tr>\n",
       "    <tr>\n",
       "      <th>30</th>\n",
       "      <td>South Central Pacific</td>\n",
       "      <td>8.924606e+05</td>\n",
       "      <td>0.051248</td>\n",
       "      <td>1.741445e+07</td>\n",
       "    </tr>\n",
       "    <tr>\n",
       "      <th>10</th>\n",
       "      <td>Equatorial Pacific</td>\n",
       "      <td>2.230339e+05</td>\n",
       "      <td>0.043027</td>\n",
       "      <td>5.183569e+06</td>\n",
       "    </tr>\n",
       "    <tr>\n",
       "      <th>8</th>\n",
       "      <td>Eastern Tropical Pacific</td>\n",
       "      <td>1.470141e+05</td>\n",
       "      <td>0.036281</td>\n",
       "      <td>4.052129e+06</td>\n",
       "    </tr>\n",
       "    <tr>\n",
       "      <th>32</th>\n",
       "      <td>Southern Indian Ocean</td>\n",
       "      <td>6.851251e+04</td>\n",
       "      <td>0.028446</td>\n",
       "      <td>2.408515e+06</td>\n",
       "    </tr>\n",
       "    <tr>\n",
       "      <th>37</th>\n",
       "      <td>Subarctic Pacific</td>\n",
       "      <td>9.883259e+04</td>\n",
       "      <td>0.021963</td>\n",
       "      <td>4.499939e+06</td>\n",
       "    </tr>\n",
       "    <tr>\n",
       "      <th>18</th>\n",
       "      <td>Malvinas Current</td>\n",
       "      <td>5.910150e+03</td>\n",
       "      <td>0.018438</td>\n",
       "      <td>3.205383e+05</td>\n",
       "    </tr>\n",
       "    <tr>\n",
       "      <th>36</th>\n",
       "      <td>Subarctic Atlantic</td>\n",
       "      <td>2.476709e+04</td>\n",
       "      <td>0.009721</td>\n",
       "      <td>2.547882e+06</td>\n",
       "    </tr>\n",
       "    <tr>\n",
       "      <th>13</th>\n",
       "      <td>Humboldt Current</td>\n",
       "      <td>1.832251e+04</td>\n",
       "      <td>0.008549</td>\n",
       "      <td>2.143314e+06</td>\n",
       "    </tr>\n",
       "    <tr>\n",
       "      <th>4</th>\n",
       "      <td>Benguela Current</td>\n",
       "      <td>1.630356e+03</td>\n",
       "      <td>0.002149</td>\n",
       "      <td>7.586754e+05</td>\n",
       "    </tr>\n",
       "    <tr>\n",
       "      <th>23</th>\n",
       "      <td>North Central Pacific</td>\n",
       "      <td>2.097020e+04</td>\n",
       "      <td>0.001788</td>\n",
       "      <td>1.172530e+07</td>\n",
       "    </tr>\n",
       "    <tr>\n",
       "      <th>6</th>\n",
       "      <td>California Current</td>\n",
       "      <td>2.119376e+03</td>\n",
       "      <td>0.001672</td>\n",
       "      <td>1.267364e+06</td>\n",
       "    </tr>\n",
       "    <tr>\n",
       "      <th>14</th>\n",
       "      <td>Indonesian Through-Flow</td>\n",
       "      <td>3.537532e+03</td>\n",
       "      <td>0.001118</td>\n",
       "      <td>3.165453e+06</td>\n",
       "    </tr>\n",
       "    <tr>\n",
       "      <th>26</th>\n",
       "      <td>Red Sea</td>\n",
       "      <td>2.314110e+02</td>\n",
       "      <td>0.001006</td>\n",
       "      <td>2.299606e+05</td>\n",
       "    </tr>\n",
       "    <tr>\n",
       "      <th>25</th>\n",
       "      <td>Northern Indian Ocean</td>\n",
       "      <td>8.208542e+03</td>\n",
       "      <td>0.000937</td>\n",
       "      <td>8.761430e+06</td>\n",
       "    </tr>\n",
       "  </tbody>\n",
       "</table>\n",
       "</div>"
      ],
      "text/plain": [
       "                    PROVINCE_P  less_than_threshold   per_ltt          base\n",
       "3                       Arctic         2.733379e+06  0.549666  4.972798e+06\n",
       "2        Antarctic Polar Front         9.189594e+05  0.408765  2.248136e+06\n",
       "35                Subantarctic         7.000655e+05  0.325243  2.152436e+06\n",
       "1                    Antarctic         4.741097e+05  0.260407  1.820650e+06\n",
       "20                        None         4.114343e+06  0.147879  2.782238e+07\n",
       "33  Southern Subtropical Front         4.747480e+05  0.131448  3.611682e+06\n",
       "30       South Central Pacific         8.924606e+05  0.051248  1.741445e+07\n",
       "10          Equatorial Pacific         2.230339e+05  0.043027  5.183569e+06\n",
       "8     Eastern Tropical Pacific         1.470141e+05  0.036281  4.052129e+06\n",
       "32       Southern Indian Ocean         6.851251e+04  0.028446  2.408515e+06\n",
       "37           Subarctic Pacific         9.883259e+04  0.021963  4.499939e+06\n",
       "18            Malvinas Current         5.910150e+03  0.018438  3.205383e+05\n",
       "36          Subarctic Atlantic         2.476709e+04  0.009721  2.547882e+06\n",
       "13            Humboldt Current         1.832251e+04  0.008549  2.143314e+06\n",
       "4             Benguela Current         1.630356e+03  0.002149  7.586754e+05\n",
       "23       North Central Pacific         2.097020e+04  0.001788  1.172530e+07\n",
       "6           California Current         2.119376e+03  0.001672  1.267364e+06\n",
       "14     Indonesian Through-Flow         3.537532e+03  0.001118  3.165453e+06\n",
       "26                     Red Sea         2.314110e+02  0.001006  2.299606e+05\n",
       "25       Northern Indian Ocean         8.208542e+03  0.000937  8.761430e+06"
      ]
     },
     "execution_count": 24,
     "metadata": {},
     "output_type": "execute_result"
    }
   ],
   "source": [
    "result_agg_10_pelagic.sort_values('per_ltt', ascending=False).head(20)"
   ]
  },
  {
   "cell_type": "code",
   "execution_count": 25,
   "metadata": {
    "collapsed": false
   },
   "outputs": [
    {
     "data": {
      "text/plain": [
       "<matplotlib.axes._subplots.AxesSubplot at 0xe4e27b8>"
      ]
     },
     "execution_count": 25,
     "metadata": {},
     "output_type": "execute_result"
    },
    {
     "data": {
      "image/png": "[encoded data removed]",
      "text/plain": [
       "<matplotlib.figure.Figure at 0xe534080>"
      ]
     },
     "metadata": {},
     "output_type": "display_data"
    }
   ],
   "source": [
    "# MEOW province (200m only)\n",
    "result_agg_10_m200 = attr_merge_10[attr_merge_10.category == 'meow200m'].groupby(['PROVINCE']).apply(apply_func).reset_index()\n",
    "sns.distplot(result_agg_10_m200.per_ltt)"
   ]
  },
  {
   "cell_type": "code",
   "execution_count": 26,
   "metadata": {
    "collapsed": false
   },
   "outputs": [
    {
     "data": {
      "text/html": [
       "<div>\n",
       "<table border=\"1\" class=\"dataframe\">\n",
       "  <thead>\n",
       "    <tr style=\"text-align: right;\">\n",
       "      <th></th>\n",
       "      <th>PROVINCE</th>\n",
       "      <th>less_than_threshold</th>\n",
       "      <th>per_ltt</th>\n",
       "      <th>base</th>\n",
       "    </tr>\n",
       "  </thead>\n",
       "  <tbody>\n",
       "    <tr>\n",
       "      <th>23</th>\n",
       "      <td>Marquesas</td>\n",
       "      <td>2.958568e+03</td>\n",
       "      <td>0.651538</td>\n",
       "      <td>4.540895e+03</td>\n",
       "    </tr>\n",
       "    <tr>\n",
       "      <th>42</th>\n",
       "      <td>Subantarctic Islands</td>\n",
       "      <td>4.575214e+04</td>\n",
       "      <td>0.502373</td>\n",
       "      <td>9.107203e+04</td>\n",
       "    </tr>\n",
       "    <tr>\n",
       "      <th>1</th>\n",
       "      <td>Amsterdam-St Paul</td>\n",
       "      <td>3.999481e+02</td>\n",
       "      <td>0.442512</td>\n",
       "      <td>9.038129e+02</td>\n",
       "    </tr>\n",
       "    <tr>\n",
       "      <th>3</th>\n",
       "      <td>Arctic</td>\n",
       "      <td>3.042846e+06</td>\n",
       "      <td>0.437750</td>\n",
       "      <td>6.951104e+06</td>\n",
       "    </tr>\n",
       "    <tr>\n",
       "      <th>45</th>\n",
       "      <td>Tristan Gough</td>\n",
       "      <td>4.104271e+02</td>\n",
       "      <td>0.223172</td>\n",
       "      <td>1.839063e+03</td>\n",
       "    </tr>\n",
       "    <tr>\n",
       "      <th>43</th>\n",
       "      <td>Subantarctic New Zealand</td>\n",
       "      <td>7.815580e+03</td>\n",
       "      <td>0.215398</td>\n",
       "      <td>3.628437e+04</td>\n",
       "    </tr>\n",
       "    <tr>\n",
       "      <th>39</th>\n",
       "      <td>Southern New Zealand</td>\n",
       "      <td>5.081087e+04</td>\n",
       "      <td>0.212072</td>\n",
       "      <td>2.395925e+05</td>\n",
       "    </tr>\n",
       "    <tr>\n",
       "      <th>31</th>\n",
       "      <td>Red Sea and Gulf of Aden</td>\n",
       "      <td>5.443748e+04</td>\n",
       "      <td>0.192227</td>\n",
       "      <td>2.831938e+05</td>\n",
       "    </tr>\n",
       "    <tr>\n",
       "      <th>8</th>\n",
       "      <td>Central Polynesia</td>\n",
       "      <td>2.491380e+03</td>\n",
       "      <td>0.153958</td>\n",
       "      <td>1.618218e+04</td>\n",
       "    </tr>\n",
       "    <tr>\n",
       "      <th>26</th>\n",
       "      <td>North Brazil Shelf</td>\n",
       "      <td>7.344986e+04</td>\n",
       "      <td>0.148297</td>\n",
       "      <td>4.952877e+05</td>\n",
       "    </tr>\n",
       "    <tr>\n",
       "      <th>27</th>\n",
       "      <td>Northeast Australian Shelf</td>\n",
       "      <td>3.956692e+04</td>\n",
       "      <td>0.135789</td>\n",
       "      <td>2.913849e+05</td>\n",
       "    </tr>\n",
       "    <tr>\n",
       "      <th>38</th>\n",
       "      <td>Southeast Polynesia</td>\n",
       "      <td>6.000968e+03</td>\n",
       "      <td>0.130460</td>\n",
       "      <td>4.599840e+04</td>\n",
       "    </tr>\n",
       "    <tr>\n",
       "      <th>52</th>\n",
       "      <td>Warm Temperate Northwest Atlantic</td>\n",
       "      <td>4.769949e+04</td>\n",
       "      <td>0.129744</td>\n",
       "      <td>3.676423e+05</td>\n",
       "    </tr>\n",
       "    <tr>\n",
       "      <th>9</th>\n",
       "      <td>Cold Temperate Northeast Pacific</td>\n",
       "      <td>6.809335e+04</td>\n",
       "      <td>0.124519</td>\n",
       "      <td>5.468513e+05</td>\n",
       "    </tr>\n",
       "    <tr>\n",
       "      <th>47</th>\n",
       "      <td>Tropical Northwestern Atlantic</td>\n",
       "      <td>1.243996e+05</td>\n",
       "      <td>0.123876</td>\n",
       "      <td>1.004228e+06</td>\n",
       "    </tr>\n",
       "    <tr>\n",
       "      <th>7</th>\n",
       "      <td>Central Indian Ocean Islands</td>\n",
       "      <td>9.148158e+03</td>\n",
       "      <td>0.116027</td>\n",
       "      <td>7.884479e+04</td>\n",
       "    </tr>\n",
       "    <tr>\n",
       "      <th>32</th>\n",
       "      <td>Sahul Shelf</td>\n",
       "      <td>1.498216e+05</td>\n",
       "      <td>0.113811</td>\n",
       "      <td>1.316408e+06</td>\n",
       "    </tr>\n",
       "    <tr>\n",
       "      <th>33</th>\n",
       "      <td>Scotia Sea</td>\n",
       "      <td>4.069341e+03</td>\n",
       "      <td>0.113695</td>\n",
       "      <td>3.579186e+04</td>\n",
       "    </tr>\n",
       "    <tr>\n",
       "      <th>34</th>\n",
       "      <td>Somali/Arabian</td>\n",
       "      <td>3.821164e+04</td>\n",
       "      <td>0.098220</td>\n",
       "      <td>3.890430e+05</td>\n",
       "    </tr>\n",
       "    <tr>\n",
       "      <th>15</th>\n",
       "      <td>Galapagos</td>\n",
       "      <td>1.484524e+03</td>\n",
       "      <td>0.091793</td>\n",
       "      <td>1.617257e+04</td>\n",
       "    </tr>\n",
       "  </tbody>\n",
       "</table>\n",
       "</div>"
      ],
      "text/plain": [
       "                             PROVINCE  less_than_threshold   per_ltt  \\\n",
       "23                          Marquesas         2.958568e+03  0.651538   \n",
       "42               Subantarctic Islands         4.575214e+04  0.502373   \n",
       "1                   Amsterdam-St Paul         3.999481e+02  0.442512   \n",
       "3                              Arctic         3.042846e+06  0.437750   \n",
       "45                      Tristan Gough         4.104271e+02  0.223172   \n",
       "43           Subantarctic New Zealand         7.815580e+03  0.215398   \n",
       "39               Southern New Zealand         5.081087e+04  0.212072   \n",
       "31           Red Sea and Gulf of Aden         5.443748e+04  0.192227   \n",
       "8                   Central Polynesia         2.491380e+03  0.153958   \n",
       "26                 North Brazil Shelf         7.344986e+04  0.148297   \n",
       "27         Northeast Australian Shelf         3.956692e+04  0.135789   \n",
       "38                Southeast Polynesia         6.000968e+03  0.130460   \n",
       "52  Warm Temperate Northwest Atlantic         4.769949e+04  0.129744   \n",
       "9    Cold Temperate Northeast Pacific         6.809335e+04  0.124519   \n",
       "47     Tropical Northwestern Atlantic         1.243996e+05  0.123876   \n",
       "7        Central Indian Ocean Islands         9.148158e+03  0.116027   \n",
       "32                        Sahul Shelf         1.498216e+05  0.113811   \n",
       "33                         Scotia Sea         4.069341e+03  0.113695   \n",
       "34                     Somali/Arabian         3.821164e+04  0.098220   \n",
       "15                          Galapagos         1.484524e+03  0.091793   \n",
       "\n",
       "            base  \n",
       "23  4.540895e+03  \n",
       "42  9.107203e+04  \n",
       "1   9.038129e+02  \n",
       "3   6.951104e+06  \n",
       "45  1.839063e+03  \n",
       "43  3.628437e+04  \n",
       "39  2.395925e+05  \n",
       "31  2.831938e+05  \n",
       "8   1.618218e+04  \n",
       "26  4.952877e+05  \n",
       "27  2.913849e+05  \n",
       "38  4.599840e+04  \n",
       "52  3.676423e+05  \n",
       "9   5.468513e+05  \n",
       "47  1.004228e+06  \n",
       "7   7.884479e+04  \n",
       "32  1.316408e+06  \n",
       "33  3.579186e+04  \n",
       "34  3.890430e+05  \n",
       "15  1.617257e+04  "
      ]
     },
     "execution_count": 26,
     "metadata": {},
     "output_type": "execute_result"
    }
   ],
   "source": [
    "result_agg_10_m200.sort_values('per_ltt', ascending = False).head(20)"
   ]
  },
  {
   "cell_type": "markdown",
   "metadata": {
    "collapsed": true
   },
   "source": [
    "---\n",
    "## New threshold for within EEZ"
   ]
  },
  {
   "cell_type": "code",
   "execution_count": 27,
   "metadata": {
    "collapsed": false
   },
   "outputs": [
    {
     "data": {
      "text/plain": [
       "607"
      ]
     },
     "execution_count": 27,
     "metadata": {},
     "output_type": "execute_result"
    }
   ],
   "source": [
    "input_data.OBJECTID.unique().size"
   ]
  },
  {
   "cell_type": "code",
   "execution_count": 28,
   "metadata": {
    "collapsed": false
   },
   "outputs": [
    {
     "data": {
      "text/plain": [
       "160682670"
      ]
     },
     "execution_count": 28,
     "metadata": {},
     "output_type": "execute_result"
    }
   ],
   "source": [
    "# no zeros in the result data\n",
    "input_data.ras_val.size"
   ]
  },
  {
   "cell_type": "code",
   "execution_count": 29,
   "metadata": {
    "collapsed": false
   },
   "outputs": [
    {
     "data": {
      "text/plain": [
       "2.9654e-06"
      ]
     },
     "execution_count": 29,
     "metadata": {},
     "output_type": "execute_result"
    }
   ],
   "source": [
    "input_data.ras_val.min()"
   ]
  },
  {
   "cell_type": "code",
   "execution_count": 30,
   "metadata": {
    "collapsed": false
   },
   "outputs": [
    {
     "data": {
      "text/plain": [
       "0.3875274645698689"
      ]
     },
     "execution_count": 30,
     "metadata": {},
     "output_type": "execute_result"
    }
   ],
   "source": [
    "# percentage of EEZ water in relation to the entire ocean\n",
    "input_data.ras_val.size/g_array_f[~(g_array_f==0)].size"
   ]
  },
  {
   "cell_type": "code",
   "execution_count": 31,
   "metadata": {
    "collapsed": false
   },
   "outputs": [
    {
     "data": {
      "text/plain": [
       "True"
      ]
     },
     "execution_count": 31,
     "metadata": {},
     "output_type": "execute_result"
    }
   ],
   "source": [
    "# all input_data are non-zero (zero indicates land and no_data)\n",
    "input_data[~(input_data.ras_val == 0)].ras_val.count() == input_data.ras_val.count()"
   ]
  },
  {
   "cell_type": "code",
   "execution_count": 32,
   "metadata": {
    "collapsed": false
   },
   "outputs": [
    {
     "data": {
      "text/plain": [
       "1.9568599999999998"
      ]
     },
     "execution_count": 32,
     "metadata": {},
     "output_type": "execute_result"
    }
   ],
   "source": [
    "# get 10% threshold value\n",
    "np.percentile(input_data.ras_val, 10)"
   ]
  },
  {
   "cell_type": "code",
   "execution_count": 33,
   "metadata": {
    "collapsed": false
   },
   "outputs": [
    {
     "data": {
      "text/plain": [
       "<matplotlib.axes._subplots.AxesSubplot at 0xe53c2b0>"
      ]
     },
     "execution_count": 33,
     "metadata": {},
     "output_type": "execute_result"
    },
    {
     "data": {
      "image/png": "[encoded data removed]",
      "text/plain": [
       "<matplotlib.figure.Figure at 0xe539208>"
      ]
     },
     "metadata": {},
     "output_type": "display_data"
    }
   ],
   "source": [
    "# very time consuming to generate\n",
    "# sns.distplot(g_array_f[~(g_array_f==0)])"
   ]
  },
  {
   "cell_type": "code",
   "execution_count": 34,
   "metadata": {
    "collapsed": false
   },
   "outputs": [
    {
     "data": {
      "text/plain": [
       "<matplotlib.axes._subplots.AxesSubplot at 0xe7632e8>"
      ]
     },
     "execution_count": 34,
     "metadata": {},
     "output_type": "execute_result"
    },
    {
     "data": {
      "image/png": "[encoded data removed]",
      "text/plain": [
       "<matplotlib.figure.Figure at 0xe7ace48>"
      ]
     },
     "metadata": {},
     "output_type": "display_data"
    }
   ],
   "source": [
    "# very time consuming to generate\n",
    "# sns.distplot(input_data.ras_val)"
   ]
  },
  {
   "cell_type": "markdown",
   "metadata": {},
   "source": [
    "It appears both the high seas and EEZ waters share similar characteristics in terms of marine cumulative pressure. "
   ]
  },
  {
   "cell_type": "markdown",
   "metadata": {},
   "source": [
    "### WH results"
   ]
  },
  {
   "cell_type": "code",
   "execution_count": 49,
   "metadata": {
    "collapsed": true
   },
   "outputs": [],
   "source": [
    "wh47 = pd.read_csv('wh47.csv')\n",
    "wh_attr = pd.read_csv('wh_attr.csv')"
   ]
  },
  {
   "cell_type": "code",
   "execution_count": 37,
   "metadata": {
    "collapsed": false
   },
   "outputs": [],
   "source": [
    "# get explicit threshold for 10%\n",
    "new_threshold = np.percentile(input_data.ras_val, 10)\n",
    "old_threshold = np.percentile(g_array_f[~(g_array_f == 0)], 10)"
   ]
  },
  {
   "cell_type": "code",
   "execution_count": 39,
   "metadata": {
    "collapsed": false
   },
   "outputs": [
    {
     "name": "stdout",
     "output_type": "stream",
     "text": [
      "Old threshold: 1.8049463033676147\n",
      "New threshold: 1.9568599999999998\n"
     ]
    }
   ],
   "source": [
    "print('Old threshold: {0}\\nNew threshold: {1}'.format(old_threshold, new_threshold))"
   ]
  },
  {
   "cell_type": "code",
   "execution_count": 73,
   "metadata": {
    "collapsed": false
   },
   "outputs": [],
   "source": [
    "def get_area(df):\n",
    "    return pd.Series(cell_size*df.ras_val.count())\n",
    "\n",
    "wh_o = wh47[wh47.ras_val<old_threshold].groupby('wdpaid').apply(get_area).reset_index()\n",
    "wh_n = wh47[wh47.ras_val<new_threshold].groupby('wdpaid').apply(get_area).reset_index()\n",
    "wh_o.columns = ['wdpaid', 'less10']\n",
    "wh_n.columns = ['wdpaid', 'less10']"
   ]
  },
  {
   "cell_type": "code",
   "execution_count": 74,
   "metadata": {
    "collapsed": false
   },
   "outputs": [],
   "source": [
    "wh_n = pd.merge(wh_attr, wh_n, how='inner', on='wdpaid')\n",
    "wh_n['per'] = wh_n.less10/wh_n.gis_area"
   ]
  },
  {
   "cell_type": "code",
   "execution_count": 76,
   "metadata": {
    "collapsed": false
   },
   "outputs": [],
   "source": [
    "# export save\n",
    "wh_n.to_csv('export_wh_per.csv')"
   ]
  },
  {
   "cell_type": "code",
   "execution_count": null,
   "metadata": {
    "collapsed": true
   },
   "outputs": [],
   "source": []
  }
 ],
 "metadata": {
  "kernelspec": {
   "display_name": "Python 3",
   "language": "python",
   "name": "python3"
  },
  "language_info": {
   "codemirror_mode": {
    "name": "ipython",
    "version": 3
   },
   "file_extension": ".py",
   "mimetype": "text/x-python",
   "name": "python",
   "nbconvert_exporter": "python",
   "pygments_lexer": "ipython3",
   "version": "3.4.4"
  }
 },
 "nbformat": 4,
 "nbformat_minor": 0
}
