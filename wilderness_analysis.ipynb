{
 "cells": [
  {
   "cell_type": "markdown",
   "metadata": {},
   "source": [
    "# Wilderness World Heritage analysis for the marine environment (no Antarctica)\n",
    "---\n",
    "Based on the discussion with Bastian and various people.\n",
    "\n",
    "The spatial analysis was done outside of this notebook. In a nutshell, the spatial component dealt with the question of how much of [cumulative marine pressure](http://www.nature.com/ncomms/2015/150714/ncomms8615/full/ncomms8615.html) there is in each unit (see below for such a hypothetical biogeographic classification). The analysis was carried out in such a way that the aggregation happens in the later stage and if thresholds are to be changed (very likely due to the explorative nature of such exercise), it requires minimum efforts without having to re-run any spatial analysis, which are time-consuming and prone to error.\n",
    "\n",
    "Nodata in the result (when converting rasters to numpy) is also removed thus saving the efforts of having to manually remove them here.\n",
    "\n",
    "[**concise methodology here**](./WH marine wilderness methodology.ipynb)"
   ]
  },
  {
   "cell_type": "code",
   "execution_count": 239,
   "metadata": {
    "collapsed": false
   },
   "outputs": [],
   "source": [
    "# load default libraries\n",
    "import os, sys\n",
    "import matplotlib.pyplot as plt\n",
    "import numpy as np\n",
    "import pandas as pd\n",
    "\n",
    "# make sure gdal is correctly installed\n",
    "from osgeo import gdal\n",
    "import gc\n",
    "\n",
    "%matplotlib inline"
   ]
  },
  {
   "cell_type": "markdown",
   "metadata": {},
   "source": [
    "## Get quantiles from the input raster data (global threshold from raw data)"
   ]
  },
  {
   "cell_type": "markdown",
   "metadata": {},
   "source": [
    "It is necessary to load the original raster in order to calculateits quantiles. They are used to define thresholds to explore the extent of marine wilderness areas."
   ]
  },
  {
   "cell_type": "code",
   "execution_count": 240,
   "metadata": {
    "collapsed": true
   },
   "outputs": [],
   "source": [
    "def raster2array(rasterfn):\n",
    "    raster = gdal.Open(rasterfn)\n",
    "    band = raster.GetRasterBand(1)\n",
    "    return band.ReadAsArray()"
   ]
  },
  {
   "cell_type": "code",
   "execution_count": 241,
   "metadata": {
    "collapsed": true
   },
   "outputs": [],
   "source": [
    "g_array = raster2array('global_cumul_impact_2013_all_layers.tif')"
   ]
  },
  {
   "cell_type": "code",
   "execution_count": 242,
   "metadata": {
    "collapsed": true
   },
   "outputs": [],
   "source": [
    "g_array_f = g_array.flatten()"
   ]
  },
  {
   "cell_type": "code",
   "execution_count": 243,
   "metadata": {
    "collapsed": false
   },
   "outputs": [
    {
     "data": {
      "text/plain": [
       "330730483"
      ]
     },
     "execution_count": 243,
     "metadata": {},
     "output_type": "execute_result"
    }
   ],
   "source": [
    "(g_array_f == 0).sum()"
   ]
  },
  {
   "cell_type": "code",
   "execution_count": 244,
   "metadata": {
    "collapsed": false
   },
   "outputs": [
    {
     "name": "stdout",
     "output_type": "stream",
     "text": [
      "The total number of non-zero values in the raw raster dataset: 414635567\n"
     ]
    }
   ],
   "source": [
    "print('The total number of non-zero values in the raw raster dataset:', g_array_f.size - (g_array_f==0).sum())\n",
    "\n",
    "## in fact the following should be used for testing equality of float dtypes. Because the result remains\\\n",
    "## the same thus the simpler option is used.\n",
    "\n",
    "## (np.isclose(g_array_f, 0.0)).sum()"
   ]
  },
  {
   "cell_type": "markdown",
   "metadata": {},
   "source": [
    "The number of non-zero values is notably different from esri's calculation, which stands at 414,347,791, less than what's calculated here and is 300,000 fewer zeros. This suggests esri may be using a bigger tolerence value, i.e. what is considered small enough to be regarded as zero .\n",
    "\n",
    "Now, get the quantiles... this threshold is subject to change. For the time being, arbitary values of 1%, 3%, 5% and 10% are used."
   ]
  },
  {
   "cell_type": "code",
   "execution_count": 245,
   "metadata": {
    "collapsed": false
   },
   "outputs": [],
   "source": [
    "## the percentile function applied to the sliced array, i.e., those with values greater than 0\n",
    "quantiles = [np.percentile(g_array_f[~(g_array_f == 0)], quantile) for quantile in [1,3,5,10]]"
   ]
  },
  {
   "cell_type": "code",
   "execution_count": 246,
   "metadata": {
    "collapsed": false
   },
   "outputs": [
    {
     "data": {
      "text/plain": [
       "[0.67987793684005737,\n",
       " 1.2613298869132996,\n",
       " 1.5064566135406494,\n",
       " 1.8049463033676147]"
      ]
     },
     "execution_count": 246,
     "metadata": {},
     "output_type": "execute_result"
    }
   ],
   "source": [
    "quantiles"
   ]
  },
  {
   "cell_type": "code",
   "execution_count": 247,
   "metadata": {
    "collapsed": false
   },
   "outputs": [
    {
     "name": "stdout",
     "output_type": "stream",
     "text": [
      "Threshold cut-off value: 0.67987793684\n",
      "Threshold cut-off value: 1.26132988691\n",
      "Threshold cut-off value: 1.50645661354\n",
      "Threshold cut-off value: 1.80494630337\n"
     ]
    }
   ],
   "source": [
    "print('\\n'.join(['Threshold cut-off value: '+ str(threshold) for threshold in quantiles]))\n"
   ]
  },
  {
   "cell_type": "markdown",
   "metadata": {},
   "source": [
    "---\n",
    "<a href='#data'>"
   ]
  },
  {
   "cell_type": "markdown",
   "metadata": {},
   "source": [
    "## Overlap between biogeography and marine pressure (global threshold) "
   ]
  },
  {
   "cell_type": "markdown",
   "metadata": {},
   "source": [
    "The hypothetical biogeographical classification of the marine environmental within EEZ is described as a combination of MEOW (Marine Ecoregional of the World), its visual representation (called hereafter MEOW visual) up to 200 nautical miles and the World's pelagic provinces. The spatial data was prepared in a way such that from the coastline outwards disjoint polygons represents: MEOW (up to 200 meter depth, inner/red), MEOW visual overlaps with pelagic provinces (middle/green), pelagic provinces that do not overlap with MEOW visual (outer/blue). This is purely a spatial aggregation based on the above data and the World Vector Shoreline EEZ. See below for example.\n",
    "\n",
    "![title](classification.PNG)"
   ]
  },
  {
   "cell_type": "markdown",
   "metadata": {},
   "source": [
    "Load the `input_data` table, which describes the intersection between the marine pressure layer and the marine ecoregion/pelagic provinces classification. The `input_attr` table contains information on the relationship between `OBJECTID` and each raster pixel value.\n",
    "- `OBJECTID` (one) - pixel value (many)\n",
    "- `OBJECTID` (many) - attr: Province, Ecoregion, and Realm, categories (one)\n",
    "Each pixel is of height and width: 934.478 meter, making each pixel in area 0.873 $km^2$"
   ]
  },
  {
   "cell_type": "code",
   "execution_count": 248,
   "metadata": {
    "collapsed": false
   },
   "outputs": [
    {
     "name": "stdout",
     "output_type": "stream",
     "text": [
      "0.8732491324839999\n"
     ]
    }
   ],
   "source": [
    "# calculate cell-size in sqkm2\n",
    "cell_size = 934.478*934.478/1000000\n",
    "print(cell_size)"
   ]
  },
  {
   "cell_type": "code",
   "execution_count": 249,
   "metadata": {
    "collapsed": false
   },
   "outputs": [
    {
     "data": {
      "text/plain": [
       "Index(['OBJECTID', 'ras_val'], dtype='object')"
      ]
     },
     "execution_count": 249,
     "metadata": {},
     "output_type": "execute_result"
    }
   ],
   "source": [
    "# the OBJECTID - ras_val table. This is a very big table and will take a long time.\n",
    "input_data = pd.read_csv('result.csv')\n",
    "# print fields\n",
    "input_data.columns"
   ]
  },
  {
   "cell_type": "code",
   "execution_count": 250,
   "metadata": {
    "collapsed": false
   },
   "outputs": [
    {
     "data": {
      "text/plain": [
       "2.9654e-06"
      ]
     },
     "execution_count": 250,
     "metadata": {},
     "output_type": "execute_result"
    }
   ],
   "source": [
    "input_data.ras_val.min()"
   ]
  },
  {
   "cell_type": "code",
   "execution_count": 251,
   "metadata": {
    "collapsed": false
   },
   "outputs": [
    {
     "data": {
      "text/plain": [
       "Index(['OBJECTID', 'PROVINCE_P', 'BIOME_P', 'REALM_P', 'ECO_CODE', 'ECOREGION',\n",
       "       'PROV_CODE', 'PROVINCE', 'RLM_CODE', 'REALM', 'ALT_CODE', 'ECO_CODE_X',\n",
       "       'category', 'Shape_Length', 'Shape_Area'],\n",
       "      dtype='object')"
      ]
     },
     "execution_count": 251,
     "metadata": {},
     "output_type": "execute_result"
    }
   ],
   "source": [
    "# the attribute table containing information about province etcb\n",
    "input_attr = pd.read_csv('attr.csv')\n",
    "# print fileds\n",
    "input_attr.columns"
   ]
  },
  {
   "cell_type": "code",
   "execution_count": 252,
   "metadata": {
    "collapsed": false
   },
   "outputs": [],
   "source": [
    "# total count of pixels per OBJECTID, i.e. base\n",
    "result_count = input_data.groupby('OBJECTID').count().reset_index()"
   ]
  },
  {
   "cell_type": "markdown",
   "metadata": {},
   "source": [
    "Here I created four result tables containing only pixels that meet the criteria as specified by different thresholds"
   ]
  },
  {
   "cell_type": "code",
   "execution_count": 253,
   "metadata": {
    "collapsed": false
   },
   "outputs": [],
   "source": [
    "# filter result only in the top 1, 3, 5, 10 percentile (of least impacted marine areas)\n",
    "result_1, result_3, result_5, result_10 = \\\n",
    "[input_data[input_data.ras_val <= threshold].groupby('OBJECTID').count().reset_index() for threshold in quantiles]"
   ]
  },
  {
   "cell_type": "markdown",
   "metadata": {},
   "source": [
    "The next step will be to join the `input_attr` table with filtered pixel values. Replace `result10` result table if other threshold is used."
   ]
  },
  {
   "cell_type": "code",
   "execution_count": 254,
   "metadata": {
    "collapsed": true
   },
   "outputs": [],
   "source": [
    "# join base to the attribute\n",
    "attr_merge = pd.merge(input_attr, result_count, on = 'OBJECTID')\n",
    "\n",
    "# join result to the above table\n",
    "attr_merge_10 = pd.merge(attr_merge, result_10, how = 'left', on ='OBJECTID', suffixes = ('_base', '_result'))\n",
    "\n",
    "# fill ras_val_result's NaN with 0, province and realms with None. This should happen earlier\n",
    "attr_merge_10['ras_val_result'].fillna(0, inplace=True)\n",
    "attr_merge_10['PROVINCE'].fillna('None', inplace=True)\n",
    "attr_merge_10['PROVINCE_P'].fillna('None', inplace=True)\n",
    "\n",
    "# apply an aggregate function to each sub dataframe, as a result of grouping\n",
    "def apply_func(group):\n",
    "    overlap = group['ras_val_result'].sum()*cell_size # in sqkm\n",
    "    base = group['ras_val_base'].sum()*cell_size\n",
    "    per = overlap/base\n",
    "    # can have multiple columns as a result, if returened as pd.series\n",
    "    return pd.Series([overlap, per, base], index=['less_than_threshold', 'per_ltt', 'base'])\n",
    "\n",
    "# code reuse: threshold\n",
    "def calculate_wilderness_marine(threshold, groups):\n",
    "    \"\"\"<threshold to consider wilderness value>, <a python list such as ['PROVINCE', 'PROVINCE_P', attr fields]>\"\"\"\n",
    "    # filtered input data according to threshold merge\n",
    "    input_data_filtered = input_data[input_data.ras_val <= threshold].groupby('OBJECTID').count().reset_index()\n",
    "    \n",
    "    # base merge\n",
    "    base_merge = pd.merge(input_attr, result_count, on = 'OBJECTID')\n",
    "    \n",
    "    # merge the two above\n",
    "    result = pd.merge(base_merge, input_data_filtered, how='left', on='OBJECTID', suffixes=('_base', '_result'))\n",
    "        # solve no data issue\n",
    "    result['ras_val_result'].fillna(0, inplace=True)\n",
    "    result['PROVINCE'].fillna('None', inplace=True)\n",
    "    result['PROVINCE_P'].fillna('None', inplace=True)\n",
    "    \n",
    "    return result.groupby(groups).apply(apply_func).reset_index()\n",
    "    "
   ]
  },
  {
   "cell_type": "markdown",
   "metadata": {},
   "source": [
    "One all tables are joined - full attributes with pixel values, attributes can be used to specify groupings"
   ]
  },
  {
   "cell_type": "code",
   "execution_count": 255,
   "metadata": {
    "collapsed": false
   },
   "outputs": [
    {
     "data": {
      "text/html": [
       "<div>\n",
       "<table border=\"1\" class=\"dataframe\">\n",
       "  <thead>\n",
       "    <tr style=\"text-align: right;\">\n",
       "      <th></th>\n",
       "      <th>PROVINCE</th>\n",
       "      <th>PROVINCE_P</th>\n",
       "      <th>category</th>\n",
       "      <th>less_than_threshold</th>\n",
       "      <th>per_ltt</th>\n",
       "      <th>base</th>\n",
       "    </tr>\n",
       "  </thead>\n",
       "  <tbody>\n",
       "    <tr>\n",
       "      <th>0</th>\n",
       "      <td>Agulhas</td>\n",
       "      <td>Agulhas Current</td>\n",
       "      <td>pelagic_meow_v</td>\n",
       "      <td>4.366246e+00</td>\n",
       "      <td>0.000008</td>\n",
       "      <td>5.390357e+05</td>\n",
       "    </tr>\n",
       "    <tr>\n",
       "      <th>1</th>\n",
       "      <td>Agulhas</td>\n",
       "      <td>Benguela Current</td>\n",
       "      <td>pelagic_meow_v</td>\n",
       "      <td>0.000000e+00</td>\n",
       "      <td>0.000000</td>\n",
       "      <td>2.824088e+04</td>\n",
       "    </tr>\n",
       "    <tr>\n",
       "      <th>2</th>\n",
       "      <td>Agulhas</td>\n",
       "      <td>None</td>\n",
       "      <td>meow200m</td>\n",
       "      <td>1.244380e+03</td>\n",
       "      <td>0.010160</td>\n",
       "      <td>1.224828e+05</td>\n",
       "    </tr>\n",
       "    <tr>\n",
       "      <th>3</th>\n",
       "      <td>Agulhas</td>\n",
       "      <td>South Central Atlantic</td>\n",
       "      <td>pelagic_meow_v</td>\n",
       "      <td>0.000000e+00</td>\n",
       "      <td>0.000000</td>\n",
       "      <td>6.505706e+02</td>\n",
       "    </tr>\n",
       "    <tr>\n",
       "      <th>4</th>\n",
       "      <td>Amsterdam-St Paul</td>\n",
       "      <td>None</td>\n",
       "      <td>meow200m</td>\n",
       "      <td>3.999481e+02</td>\n",
       "      <td>0.442512</td>\n",
       "      <td>9.038129e+02</td>\n",
       "    </tr>\n",
       "    <tr>\n",
       "      <th>5</th>\n",
       "      <td>Amsterdam-St Paul</td>\n",
       "      <td>Southern Indian Ocean</td>\n",
       "      <td>pelagic_meow_v</td>\n",
       "      <td>6.390088e+04</td>\n",
       "      <td>0.167804</td>\n",
       "      <td>3.808065e+05</td>\n",
       "    </tr>\n",
       "    <tr>\n",
       "      <th>6</th>\n",
       "      <td>Amsterdam-St Paul</td>\n",
       "      <td>Southern Subtropical Front</td>\n",
       "      <td>pelagic_meow_v</td>\n",
       "      <td>4.591544e+03</td>\n",
       "      <td>0.328358</td>\n",
       "      <td>1.398334e+04</td>\n",
       "    </tr>\n",
       "    <tr>\n",
       "      <th>7</th>\n",
       "      <td>Andaman</td>\n",
       "      <td>None</td>\n",
       "      <td>meow200m</td>\n",
       "      <td>2.069600e+03</td>\n",
       "      <td>0.006710</td>\n",
       "      <td>3.084360e+05</td>\n",
       "    </tr>\n",
       "    <tr>\n",
       "      <th>8</th>\n",
       "      <td>Andaman</td>\n",
       "      <td>Northern Indian Ocean</td>\n",
       "      <td>pelagic_meow_v</td>\n",
       "      <td>6.841034e+03</td>\n",
       "      <td>0.004711</td>\n",
       "      <td>1.452095e+06</td>\n",
       "    </tr>\n",
       "    <tr>\n",
       "      <th>9</th>\n",
       "      <td>Arctic</td>\n",
       "      <td>Arctic</td>\n",
       "      <td>pelagic_meow_v</td>\n",
       "      <td>1.989649e+06</td>\n",
       "      <td>0.573653</td>\n",
       "      <td>3.468383e+06</td>\n",
       "    </tr>\n",
       "    <tr>\n",
       "      <th>10</th>\n",
       "      <td>Arctic</td>\n",
       "      <td>None</td>\n",
       "      <td>meow200m</td>\n",
       "      <td>3.042846e+06</td>\n",
       "      <td>0.437750</td>\n",
       "      <td>6.951104e+06</td>\n",
       "    </tr>\n",
       "    <tr>\n",
       "      <th>11</th>\n",
       "      <td>Arctic</td>\n",
       "      <td>Subarctic Atlantic</td>\n",
       "      <td>pelagic_meow_v</td>\n",
       "      <td>2.476709e+04</td>\n",
       "      <td>0.023380</td>\n",
       "      <td>1.059351e+06</td>\n",
       "    </tr>\n",
       "    <tr>\n",
       "      <th>12</th>\n",
       "      <td>Arctic</td>\n",
       "      <td>Subarctic Pacific</td>\n",
       "      <td>pelagic_meow_v</td>\n",
       "      <td>1.109026e+03</td>\n",
       "      <td>0.013927</td>\n",
       "      <td>7.963072e+04</td>\n",
       "    </tr>\n",
       "    <tr>\n",
       "      <th>13</th>\n",
       "      <td>Bay of Bengal</td>\n",
       "      <td>None</td>\n",
       "      <td>meow200m</td>\n",
       "      <td>1.846922e+03</td>\n",
       "      <td>0.006514</td>\n",
       "      <td>2.835335e+05</td>\n",
       "    </tr>\n",
       "    <tr>\n",
       "      <th>14</th>\n",
       "      <td>Bay of Bengal</td>\n",
       "      <td>Northern Indian Ocean</td>\n",
       "      <td>pelagic_meow_v</td>\n",
       "      <td>0.000000e+00</td>\n",
       "      <td>0.000000</td>\n",
       "      <td>6.244395e+05</td>\n",
       "    </tr>\n",
       "    <tr>\n",
       "      <th>15</th>\n",
       "      <td>Benguela</td>\n",
       "      <td>Benguela Current</td>\n",
       "      <td>pelagic_meow_v</td>\n",
       "      <td>1.630356e+03</td>\n",
       "      <td>0.002477</td>\n",
       "      <td>6.583294e+05</td>\n",
       "    </tr>\n",
       "    <tr>\n",
       "      <th>16</th>\n",
       "      <td>Benguela</td>\n",
       "      <td>Equatorial Atlantic</td>\n",
       "      <td>pelagic_meow_v</td>\n",
       "      <td>0.000000e+00</td>\n",
       "      <td>0.000000</td>\n",
       "      <td>1.454134e+04</td>\n",
       "    </tr>\n",
       "    <tr>\n",
       "      <th>17</th>\n",
       "      <td>Benguela</td>\n",
       "      <td>None</td>\n",
       "      <td>meow200m</td>\n",
       "      <td>4.329569e+03</td>\n",
       "      <td>0.026932</td>\n",
       "      <td>1.607599e+05</td>\n",
       "    </tr>\n",
       "    <tr>\n",
       "      <th>18</th>\n",
       "      <td>Benguela</td>\n",
       "      <td>South Central Atlantic</td>\n",
       "      <td>pelagic_meow_v</td>\n",
       "      <td>0.000000e+00</td>\n",
       "      <td>0.000000</td>\n",
       "      <td>8.828549e+02</td>\n",
       "    </tr>\n",
       "    <tr>\n",
       "      <th>19</th>\n",
       "      <td>Black Sea</td>\n",
       "      <td>Black Sea</td>\n",
       "      <td>pelagic_meow_v</td>\n",
       "      <td>0.000000e+00</td>\n",
       "      <td>0.000000</td>\n",
       "      <td>2.921892e+05</td>\n",
       "    </tr>\n",
       "  </tbody>\n",
       "</table>\n",
       "</div>"
      ],
      "text/plain": [
       "             PROVINCE                  PROVINCE_P        category  \\\n",
       "0             Agulhas             Agulhas Current  pelagic_meow_v   \n",
       "1             Agulhas            Benguela Current  pelagic_meow_v   \n",
       "2             Agulhas                        None        meow200m   \n",
       "3             Agulhas      South Central Atlantic  pelagic_meow_v   \n",
       "4   Amsterdam-St Paul                        None        meow200m   \n",
       "5   Amsterdam-St Paul       Southern Indian Ocean  pelagic_meow_v   \n",
       "6   Amsterdam-St Paul  Southern Subtropical Front  pelagic_meow_v   \n",
       "7             Andaman                        None        meow200m   \n",
       "8             Andaman       Northern Indian Ocean  pelagic_meow_v   \n",
       "9              Arctic                      Arctic  pelagic_meow_v   \n",
       "10             Arctic                        None        meow200m   \n",
       "11             Arctic          Subarctic Atlantic  pelagic_meow_v   \n",
       "12             Arctic           Subarctic Pacific  pelagic_meow_v   \n",
       "13      Bay of Bengal                        None        meow200m   \n",
       "14      Bay of Bengal       Northern Indian Ocean  pelagic_meow_v   \n",
       "15           Benguela            Benguela Current  pelagic_meow_v   \n",
       "16           Benguela         Equatorial Atlantic  pelagic_meow_v   \n",
       "17           Benguela                        None        meow200m   \n",
       "18           Benguela      South Central Atlantic  pelagic_meow_v   \n",
       "19          Black Sea                   Black Sea  pelagic_meow_v   \n",
       "\n",
       "    less_than_threshold   per_ltt          base  \n",
       "0          4.366246e+00  0.000008  5.390357e+05  \n",
       "1          0.000000e+00  0.000000  2.824088e+04  \n",
       "2          1.244380e+03  0.010160  1.224828e+05  \n",
       "3          0.000000e+00  0.000000  6.505706e+02  \n",
       "4          3.999481e+02  0.442512  9.038129e+02  \n",
       "5          6.390088e+04  0.167804  3.808065e+05  \n",
       "6          4.591544e+03  0.328358  1.398334e+04  \n",
       "7          2.069600e+03  0.006710  3.084360e+05  \n",
       "8          6.841034e+03  0.004711  1.452095e+06  \n",
       "9          1.989649e+06  0.573653  3.468383e+06  \n",
       "10         3.042846e+06  0.437750  6.951104e+06  \n",
       "11         2.476709e+04  0.023380  1.059351e+06  \n",
       "12         1.109026e+03  0.013927  7.963072e+04  \n",
       "13         1.846922e+03  0.006514  2.835335e+05  \n",
       "14         0.000000e+00  0.000000  6.244395e+05  \n",
       "15         1.630356e+03  0.002477  6.583294e+05  \n",
       "16         0.000000e+00  0.000000  1.454134e+04  \n",
       "17         4.329569e+03  0.026932  1.607599e+05  \n",
       "18         0.000000e+00  0.000000  8.828549e+02  \n",
       "19         0.000000e+00  0.000000  2.921892e+05  "
      ]
     },
     "execution_count": 255,
     "metadata": {},
     "output_type": "execute_result"
    }
   ],
   "source": [
    "# use 10% as threshold\n",
    "calculate_wilderness_marine(quantiles[-1], ['PROVINCE', 'PROVINCE_P', 'category']).head(20)"
   ]
  },
  {
   "cell_type": "markdown",
   "metadata": {
    "collapsed": true
   },
   "source": [
    "Further aggregation could be applied here, if needed."
   ]
  },
  {
   "cell_type": "markdown",
   "metadata": {
    "collapsed": true
   },
   "source": [
    "---\n",
    "## Overlap between biogeography and marine pressure (new threshold for within EEZ)\n",
    "The World Heritage Convention currently operates only within areas under national jurisdiction, and thus high seas/ABNJ is not to be considered. It is sensible to reduce the scope of area of interest to the extent of EEZ, and accordingly adjust wilderness threshold values. \n",
    "\n",
    "By excluding Antartica, where significant area of wilderness exist, it should raise the bar lower for those to be considered as wilderness areas, i.e. having a higher cumulative marine pressure threshold and more areas would be 'eligible' as wilderness."
   ]
  },
  {
   "cell_type": "code",
   "execution_count": 256,
   "metadata": {
    "collapsed": false
   },
   "outputs": [
    {
     "data": {
      "text/plain": [
       "607"
      ]
     },
     "execution_count": 256,
     "metadata": {},
     "output_type": "execute_result"
    }
   ],
   "source": [
    "# check data integrity\n",
    "input_data.OBJECTID.unique().size"
   ]
  },
  {
   "cell_type": "code",
   "execution_count": 257,
   "metadata": {
    "collapsed": false
   },
   "outputs": [
    {
     "data": {
      "text/plain": [
       "160682670"
      ]
     },
     "execution_count": 257,
     "metadata": {},
     "output_type": "execute_result"
    }
   ],
   "source": [
    "# no zeros in the result data\n",
    "input_data.ras_val.size"
   ]
  },
  {
   "cell_type": "code",
   "execution_count": 258,
   "metadata": {
    "collapsed": false
   },
   "outputs": [
    {
     "data": {
      "text/plain": [
       "2.9654e-06"
      ]
     },
     "execution_count": 258,
     "metadata": {},
     "output_type": "execute_result"
    }
   ],
   "source": [
    "# it should not have 0, which indicates nodata in the raster data as it has been removed during the spatial analysis\n",
    "input_data.ras_val.min()"
   ]
  },
  {
   "cell_type": "code",
   "execution_count": 259,
   "metadata": {
    "collapsed": false
   },
   "outputs": [
    {
     "data": {
      "text/plain": [
       "0.3875274645698689"
      ]
     },
     "execution_count": 259,
     "metadata": {},
     "output_type": "execute_result"
    }
   ],
   "source": [
    "# percentage of EEZ water in relation to the entire ocean\n",
    "input_data.ras_val.size/g_array_f[~(g_array_f==0)].size"
   ]
  },
  {
   "cell_type": "code",
   "execution_count": 260,
   "metadata": {
    "collapsed": false
   },
   "outputs": [
    {
     "data": {
      "text/plain": [
       "True"
      ]
     },
     "execution_count": 260,
     "metadata": {},
     "output_type": "execute_result"
    }
   ],
   "source": [
    "# all input_data are non-zero (zero indicates land and nodata)\n",
    "input_data[~(input_data.ras_val == 0)].ras_val.count() == input_data.ras_val.count()"
   ]
  },
  {
   "cell_type": "code",
   "execution_count": 261,
   "metadata": {
    "collapsed": false
   },
   "outputs": [],
   "source": [
    "# get threshold for 10%\n",
    "new_threshold = np.percentile(input_data.ras_val, 10)\n",
    "old_threshold = np.percentile(g_array_f[~(g_array_f == 0)], 10)"
   ]
  },
  {
   "cell_type": "markdown",
   "metadata": {},
   "source": [
    "Use the new threshold (based on EEZ) and the function defined in the previous section to output lists of:\n",
    "- all meow provinces (including both 200 meter depth and 200 nautical miles (views) - wilderness area and percentage cover\n",
    "- both provinces, meow and pelagic, within EEZ - wilderness area and percentage cover\n",
    "\n",
    "It is possible for other combinations or different threshold if required."
   ]
  },
  {
   "cell_type": "code",
   "execution_count": 262,
   "metadata": {
    "collapsed": false
   },
   "outputs": [],
   "source": [
    "# export wilderness distribution by province or other groupings\n",
    "calculate_wilderness_marine(new_threshold, ['PROVINCE']).to_csv('export_meow_province.csv')\n",
    "calculate_wilderness_marine(new_threshold, ['PROVINCE', 'PROVINCE_P', 'category']).to_csv('export_province_full.csv')"
   ]
  },
  {
   "cell_type": "markdown",
   "metadata": {},
   "source": [
    "**The distribution map of wilderness within EEZ using new threshold**\n",
    "![dist-eez](dist_EEZ.png)"
   ]
  },
  {
   "cell_type": "markdown",
   "metadata": {},
   "source": [
    "---\n",
    "**Distribution of percentage of wilderness (less than threshold, ltt) by groups**\n",
    "\n",
    "---"
   ]
  },
  {
   "cell_type": "code",
   "execution_count": 263,
   "metadata": {
    "collapsed": true
   },
   "outputs": [],
   "source": [
    "import seaborn as sns"
   ]
  },
  {
   "cell_type": "code",
   "execution_count": 264,
   "metadata": {
    "collapsed": false
   },
   "outputs": [
    {
     "data": {
      "text/plain": [
       "<seaborn.axisgrid.FacetGrid at 0xfe279e8>"
      ]
     },
     "execution_count": 264,
     "metadata": {},
     "output_type": "execute_result"
    },
    {
     "data": {
      "image/png": "[encoded data removed]",
      "text/plain": [
       "<matplotlib.figure.Figure at 0xfb2f0b8>"
      ]
     },
     "metadata": {},
     "output_type": "display_data"
    }
   ],
   "source": [
    "# small multiples: distribution of percentage of less than threshold (ltt)\n",
    "g = sns.FacetGrid(calculate_wilderness_marine(new_threshold, ['PROVINCE', 'PROVINCE_P', 'category']), col=\"category\")\n",
    "g.map(plt.hist, 'per_ltt', bins=50, log=True)"
   ]
  },
  {
   "cell_type": "code",
   "execution_count": 265,
   "metadata": {
    "collapsed": false
   },
   "outputs": [
    {
     "data": {
      "text/plain": [
       "<matplotlib.axes._subplots.AxesSubplot at 0x1003a080>"
      ]
     },
     "execution_count": 265,
     "metadata": {},
     "output_type": "execute_result"
    },
    {
     "data": {
      "image/png": "[encoded data removed]",
      "text/plain": [
       "<matplotlib.figure.Figure at 0xfba2c50>"
      ]
     },
     "metadata": {},
     "output_type": "display_data"
    }
   ],
   "source": [
    "# MEOW province (200m and 200 nautical combined)\n",
    "sns.distplot(calculate_wilderness_marine(new_threshold, ['PROVINCE']).per_ltt)"
   ]
  },
  {
   "cell_type": "code",
   "execution_count": 266,
   "metadata": {
    "collapsed": false
   },
   "outputs": [
    {
     "data": {
      "text/plain": [
       "<matplotlib.axes._subplots.AxesSubplot at 0xfab4908>"
      ]
     },
     "execution_count": 266,
     "metadata": {},
     "output_type": "execute_result"
    },
    {
     "data": {
      "image/png": "[encoded data removed]",
      "text/plain": [
       "<matplotlib.figure.Figure at 0xed2f940>"
      ]
     },
     "metadata": {},
     "output_type": "display_data"
    }
   ],
   "source": [
    "# pelagic province\n",
    "sns.distplot(calculate_wilderness_marine(new_threshold, ['PROVINCE_P']).per_ltt)"
   ]
  },
  {
   "cell_type": "markdown",
   "metadata": {},
   "source": [
    "From the graphs, it is obvious that most provinces/pelagic provinces have very low percentage of marine wilderness area inside them."
   ]
  },
  {
   "cell_type": "markdown",
   "metadata": {},
   "source": [
    "## Overlap between marine World Heritage sites and marine pressure\n",
    "The aim of this analysis is to understand wilderness marine area, as identified using methods in this study, inside the current WH sites"
   ]
  },
  {
   "cell_type": "code",
   "execution_count": 267,
   "metadata": {
    "collapsed": false
   },
   "outputs": [
    {
     "name": "stdout",
     "output_type": "stream",
     "text": [
      "Index(['wdpaid', 'ras_val'], dtype='object') Index(['objectid', 'wdpaid', 'en_name', 'fr_name', 'status_yr', 'rep_area',\n",
      "       'gis_area', 'country', 'crit', 'shape_Length', 'shape_Area'],\n",
      "      dtype='object')\n"
     ]
    }
   ],
   "source": [
    "# load data\n",
    "wh47 = pd.read_csv('wh47.csv')\n",
    "wh_attr = pd.read_csv('wh_attr.csv')\n",
    "\n",
    "print(wh47.columns, wh_attr.columns)"
   ]
  },
  {
   "cell_type": "code",
   "execution_count": 268,
   "metadata": {
    "collapsed": false
   },
   "outputs": [
    {
     "name": "stdout",
     "output_type": "stream",
     "text": [
      "Old threshold: 1.8049463033676147\n",
      "New threshold: 1.9568599999999998\n"
     ]
    }
   ],
   "source": [
    "# check thresholds, use new threshold\n",
    "print('Old threshold: {0}\\nNew threshold: {1}'.format(old_threshold, new_threshold))"
   ]
  },
  {
   "cell_type": "code",
   "execution_count": 269,
   "metadata": {
    "collapsed": false,
    "scrolled": false
   },
   "outputs": [],
   "source": [
    "# get WH statics\n",
    "wh_n_base = (wh47.groupby('wdpaid').ras_val.count()*cell_size).reset_index()  # all marine area\n",
    "wh_n = (wh47[wh47.ras_val<new_threshold].groupby('wdpaid').ras_val.count()*cell_size).reset_index() # marine wild\n",
    "\n",
    "# merge in order to calculate percentage (% of marine wilderness in marine area of WH sites)\n",
    "a = pd.merge(wh_n_base, wh_n, on='wdpaid', suffixes=('_all', '_wild'))\n",
    "a = pd.merge(wh_attr, a, how='inner', on='wdpaid')\n",
    "a['per'] = a.ras_val_wild/a.ras_val_all\n",
    "\n",
    "# export save\n",
    "a.to_csv('export_wh_wilderness.csv')"
   ]
  },
  {
   "cell_type": "code",
   "execution_count": 270,
   "metadata": {
    "collapsed": false
   },
   "outputs": [
    {
     "data": {
      "text/plain": [
       "<matplotlib.axes._subplots.AxesSubplot at 0x11e290b8>"
      ]
     },
     "execution_count": 270,
     "metadata": {},
     "output_type": "execute_result"
    },
    {
     "data": {
      "image/png": "[encoded data removed]",
      "text/plain": [
       "<matplotlib.figure.Figure at 0xfccaac8>"
      ]
     },
     "metadata": {},
     "output_type": "display_data"
    }
   ],
   "source": [
    "# distribution of WH wilderness percentage\n",
    "sns.distplot(a.per)"
   ]
  },
  {
   "cell_type": "code",
   "execution_count": 271,
   "metadata": {
    "collapsed": false
   },
   "outputs": [
    {
     "data": {
      "image/png": "[encoded data removed]",
      "text/plain": [
       "<matplotlib.figure.Figure at 0x11ef3ba8>"
      ]
     },
     "metadata": {},
     "output_type": "display_data"
    }
   ],
   "source": [
    "sns.distplot(a.ras_val_wild)\n",
    "del a"
   ]
  },
  {
   "cell_type": "markdown",
   "metadata": {
    "collapsed": true
   },
   "source": [
    "## Gap analysis\n",
    "### 1. Mismatch of results using WH boundary alone vs WH intersections with biogeography"
   ]
  },
  {
   "cell_type": "code",
   "execution_count": 272,
   "metadata": {
    "collapsed": false
   },
   "outputs": [
    {
     "data": {
      "text/plain": [
       "(Index(['OBJECTID', 'PROVINCE_P', 'BIOME_P', 'REALM_P', 'ECO_CODE', 'ECOREGION',\n",
       "        'PROV_CODE', 'PROVINCE', 'RLM_CODE', 'REALM', 'ALT_CODE', 'ECO_CODE_X',\n",
       "        'category', 'Shape_Length', 'Shape_Area'],\n",
       "       dtype='object'),\n",
       " Index(['objectid', 'wdpaid', 'en_name', 'fr_name', 'status_yr', 'rep_area',\n",
       "        'gis_area', 'country', 'crit', 'shape_Length', 'shape_Area'],\n",
       "       dtype='object'))"
      ]
     },
     "execution_count": 272,
     "metadata": {},
     "output_type": "execute_result"
    }
   ],
   "source": [
    "input_attr.columns, wh_attr.columns"
   ]
  },
  {
   "cell_type": "code",
   "execution_count": 273,
   "metadata": {
    "collapsed": true
   },
   "outputs": [],
   "source": [
    "int_wh = pd.read_csv('wh_base_intersect.csv')\n",
    "int_wh_attr = pd.read_csv('wh_base_intersect_attr.csv')"
   ]
  },
  {
   "cell_type": "code",
   "execution_count": 274,
   "metadata": {
    "collapsed": false
   },
   "outputs": [
    {
     "data": {
      "text/plain": [
       "(Index(['OBJECTID_12', 'ras_val'], dtype='object'),\n",
       " Index(['OBJECTID_12', 'wdpaid', 'en_name', 'fr_name', 'status_yr', 'rep_area',\n",
       "        'gis_area', 'country', 'crit', 'unesid',\n",
       "        'FID_meow_meowv_pelagic_no_antarctica', 'PROVINCE_P', 'BIOME_P',\n",
       "        'REALM_P', 'ECO_CODE', 'ECOREGION', 'PROV_CODE', 'PROVINCE', 'RLM_CODE',\n",
       "        'REALM', 'ALT_CODE', 'ECO_CODE_X', 'category', 'Shape_Length',\n",
       "        'Shape_Area'],\n",
       "       dtype='object'))"
      ]
     },
     "execution_count": 274,
     "metadata": {},
     "output_type": "execute_result"
    }
   ],
   "source": [
    "int_wh.columns, int_wh_attr.columns"
   ]
  },
  {
   "cell_type": "code",
   "execution_count": 275,
   "metadata": {
    "collapsed": false
   },
   "outputs": [
    {
     "data": {
      "text/plain": [
       "wdpaid     en_name                                                                    \n",
       "191        Galápagos Islands                                                               1951.711811\n",
       "2012       Everglades National Park                                                           1.746498\n",
       "2018       Kluane / Wrangell-St Elias / Glacier Bay / Tatshenshini-Alsek                   1352.662906\n",
       "2571       Great Barrier Reef                                                             78452.702062\n",
       "5004       Aldabra Atoll                                                                      5.239495\n",
       "9617       Gulf of Porto: Calanche of Piana, Gulf of Girolata, Scandola Reserve               0.873249\n",
       "20388      Banc d'Arguin National Park                                                      679.387825\n",
       "67724      Shark Bay, Western Australia                                                    1493.256017\n",
       "67726      Ujung Kulon National Park                                                          3.492997\n",
       "68918      Whale Sanctuary of El Vizcaino                                                   435.751317\n",
       "93767      Gough and Inaccessible Islands                                                    61.127439\n",
       "145576     Heard and McDonald Islands                                                      1956.951306\n",
       "145579     Macquarie Island                                                                5369.608916\n",
       "145582     Cocos Island National Park                                                       874.122382\n",
       "168239     New Zealand Sub-Antarctic Islands                                               6273.421768\n",
       "168242     East Rennell                                                                      41.915958\n",
       "198291     Península Valdés                                                                  19.211481\n",
       "198296     Area de Conservación Guanacaste                                                   84.705166\n",
       "198302     iSimangaliso Wetland Park                                                          6.985993\n",
       "478638     The Wadden Sea                                                                   301.270951\n",
       "478642     High Coast / Kvarken Archipelago                                                   3.492997\n",
       "900631     Brazilian Atlantic Islands: Fernando de Noronha and Atol das Rocas Reserves        0.873249\n",
       "900889     Ha Long Bay                                                                        8.732491\n",
       "902356     Natural System of Wrangel Island Reserve                                        5246.480788\n",
       "902368     St Kilda                                                                           0.873249\n",
       "902479     Coiba National Park and its Special Zone of Marine Protection                     38.422962\n",
       "902481     Islands and Protected Areas of the Gulf of California                           1768.329493\n",
       "902482     Shiretoko                                                                          1.746498\n",
       "902489     West Norwegian Fjords – Geirangerfjord and Nærøyfjord                              6.985993\n",
       "902899     Malpelo Fauna and Flora Sanctuary                                                144.086107\n",
       "903134     Lagoons of New Caledonia: Reef Diversity and Associated Ecosystems                93.437657\n",
       "903138     Socotra Archipelago                                                              169.410332\n",
       "555512001  Papahānaumokuākea                                                                956.207800\n",
       "555512002  Phoenix Islands Protected Area                                                 23492.148162\n",
       "555542338  Ningaloo Coast                                                                   186.875314\n",
       "555547992  Rock Islands Southern Lagoon                                                       2.619747\n",
       "Name: ras_val, dtype: float64"
      ]
     },
     "execution_count": 275,
     "metadata": {},
     "output_type": "execute_result"
    }
   ],
   "source": [
    "# filter pixels that meet the new threshold (from EEZ)\n",
    "int_wh_filter = int_wh[int_wh.ras_val < new_threshold]\n",
    "\n",
    "# group value based on OBJECTID\n",
    "int_wh_filter_group = int_wh_filter.groupby('OBJECTID_12').count().reset_index()\n",
    "\n",
    "# attr join\n",
    "int_result = pd.merge(int_wh_attr, int_wh_filter_group, on='OBJECTID_12')\n",
    "\n",
    "# % wilderness area inside each PA within EEZ\n",
    "int_result.groupby(['wdpaid', 'en_name']).ras_val.sum()*cell_size"
   ]
  },
  {
   "cell_type": "markdown",
   "metadata": {},
   "source": [
    "As contrary to common sense, wilderness in WH sites calculated from the intersection is slightly different from that of directly using WH boundary to cut out the marine cumulative impact data. This is due to boundary mismatches. The intersection of WH and EEZ (with biogeography attrs) removed all land area, where the marine pressure layer may have mapped pixels (See below highlighted pixels, in Galapogas)\n",
    "\n",
    "![boundary-mismatch](mis_boundary.PNG)\n",
    "\n",
    "Vice versa, due to the nature of intersection (clipping in strict sense), adjacent geometries having a long/shared boundary might pick up the same pixel from the base raster twice. **This should not be a problem due to very low occurence (upon manual checking) but it is possible to count the same pixel twice. This should not present a problem in most cases, although it could possibly be one if such a shared boundary is very long and complicated. **\n",
    "\n",
    "*In order to address this issue in the future, one could revert back to the old way: using an aggregated boundary for the result, however every change will mean a complete re-run. I would still prefer the fine granular approach, which far outweighs the shortcomings - do spatial once at the finest scale and the rest would be non-spatial. Subpixel level calculation is perhaps needed to determine whether or not an overlap should be counted or left out.*\n",
    "\n",
    "Futhermore, the mismatching issue is further plagued by spatial data quality. See below Natural System of Wrangel Island, where the blue part is the overlap between WH and biogeography\n",
    "\n",
    "![wrangel](wrangel_island.PNG)\n",
    "\n",
    "The only logical/sensible way to deal with this is to use WH calulation for its self (i.e. how much of wilderness is in WH system), while the intersection WH result for relations with biogeography."
   ]
  },
  {
   "cell_type": "markdown",
   "metadata": {},
   "source": [
    "---\n",
    "**Below is an in-depth investigation but it's not part of the gap analysis**\n",
    "\n",
    "---"
   ]
  },
  {
   "cell_type": "code",
   "execution_count": 276,
   "metadata": {
    "collapsed": false
   },
   "outputs": [],
   "source": [
    "# calculate total WH marine area, no filter applied\n",
    "# group value based on OBJECTID\n",
    "int_wh_group = int_wh.groupby('OBJECTID_12').count().reset_index()\n",
    "\n",
    "# base \n",
    "G_base = (pd.merge(int_wh_attr, int_wh_group, on='OBJECTID_12').groupby(['wdpaid', 'en_name']).ras_val.sum()*cell_size).reset_index()\n",
    "G_wh = (int_result.groupby(['wdpaid', 'en_name']).ras_val.sum()*cell_size).reset_index()"
   ]
  },
  {
   "cell_type": "code",
   "execution_count": 277,
   "metadata": {
    "collapsed": false
   },
   "outputs": [
    {
     "data": {
      "text/plain": [
       "(Index(['wdpaid', 'en_name', 'ras_val'], dtype='object'),\n",
       " Index(['wdpaid', 'en_name', 'ras_val'], dtype='object'))"
      ]
     },
     "execution_count": 277,
     "metadata": {},
     "output_type": "execute_result"
    }
   ],
   "source": [
    "G_base.columns, G_wh.columns"
   ]
  },
  {
   "cell_type": "code",
   "execution_count": 278,
   "metadata": {
    "collapsed": false
   },
   "outputs": [
    {
     "data": {
      "text/html": [
       "<div>\n",
       "<table border=\"1\" class=\"dataframe\">\n",
       "  <thead>\n",
       "    <tr style=\"text-align: right;\">\n",
       "      <th></th>\n",
       "      <th>wdpaid</th>\n",
       "      <th>en_name</th>\n",
       "      <th>marine_area</th>\n",
       "      <th>marine_wild_area</th>\n",
       "      <th>per</th>\n",
       "    </tr>\n",
       "  </thead>\n",
       "  <tbody>\n",
       "    <tr>\n",
       "      <th>0</th>\n",
       "      <td>191</td>\n",
       "      <td>Galápagos Islands</td>\n",
       "      <td>140249.923421</td>\n",
       "      <td>1951.711811</td>\n",
       "      <td>0.013916</td>\n",
       "    </tr>\n",
       "    <tr>\n",
       "      <th>1</th>\n",
       "      <td>2012</td>\n",
       "      <td>Everglades National Park</td>\n",
       "      <td>1953.458309</td>\n",
       "      <td>1.746498</td>\n",
       "      <td>0.000894</td>\n",
       "    </tr>\n",
       "    <tr>\n",
       "      <th>2</th>\n",
       "      <td>2018</td>\n",
       "      <td>Kluane / Wrangell-St Elias / Glacier Bay / Tat...</td>\n",
       "      <td>2197.094817</td>\n",
       "      <td>1352.662906</td>\n",
       "      <td>0.615660</td>\n",
       "    </tr>\n",
       "    <tr>\n",
       "      <th>3</th>\n",
       "      <td>2571</td>\n",
       "      <td>Great Barrier Reef</td>\n",
       "      <td>348894.465396</td>\n",
       "      <td>78452.702062</td>\n",
       "      <td>0.224861</td>\n",
       "    </tr>\n",
       "    <tr>\n",
       "      <th>4</th>\n",
       "      <td>5001</td>\n",
       "      <td>Lord Howe Island Group</td>\n",
       "      <td>1487.143273</td>\n",
       "      <td>0.000000</td>\n",
       "      <td>0.000000</td>\n",
       "    </tr>\n",
       "    <tr>\n",
       "      <th>5</th>\n",
       "      <td>5004</td>\n",
       "      <td>Aldabra Atoll</td>\n",
       "      <td>223.551778</td>\n",
       "      <td>5.239495</td>\n",
       "      <td>0.023437</td>\n",
       "    </tr>\n",
       "    <tr>\n",
       "      <th>6</th>\n",
       "      <td>9617</td>\n",
       "      <td>Gulf of Porto: Calanche of Piana, Gulf of Giro...</td>\n",
       "      <td>30.563720</td>\n",
       "      <td>0.873249</td>\n",
       "      <td>0.028571</td>\n",
       "    </tr>\n",
       "    <tr>\n",
       "      <th>7</th>\n",
       "      <td>14177</td>\n",
       "      <td>Sundarbans National Park</td>\n",
       "      <td>13.098737</td>\n",
       "      <td>0.000000</td>\n",
       "      <td>0.000000</td>\n",
       "    </tr>\n",
       "    <tr>\n",
       "      <th>8</th>\n",
       "      <td>20062</td>\n",
       "      <td>Sian Ka'an</td>\n",
       "      <td>1446.973813</td>\n",
       "      <td>0.000000</td>\n",
       "      <td>0.000000</td>\n",
       "    </tr>\n",
       "    <tr>\n",
       "      <th>9</th>\n",
       "      <td>20388</td>\n",
       "      <td>Banc d'Arguin National Park</td>\n",
       "      <td>6257.703283</td>\n",
       "      <td>679.387825</td>\n",
       "      <td>0.108568</td>\n",
       "    </tr>\n",
       "    <tr>\n",
       "      <th>10</th>\n",
       "      <td>67724</td>\n",
       "      <td>Shark Bay, Western Australia</td>\n",
       "      <td>14886.277961</td>\n",
       "      <td>1493.256017</td>\n",
       "      <td>0.100311</td>\n",
       "    </tr>\n",
       "    <tr>\n",
       "      <th>11</th>\n",
       "      <td>67725</td>\n",
       "      <td>Komodo National Park</td>\n",
       "      <td>923.897582</td>\n",
       "      <td>0.000000</td>\n",
       "      <td>0.000000</td>\n",
       "    </tr>\n",
       "    <tr>\n",
       "      <th>12</th>\n",
       "      <td>67726</td>\n",
       "      <td>Ujung Kulon National Park</td>\n",
       "      <td>501.245002</td>\n",
       "      <td>3.492997</td>\n",
       "      <td>0.006969</td>\n",
       "    </tr>\n",
       "    <tr>\n",
       "      <th>13</th>\n",
       "      <td>68917</td>\n",
       "      <td>Tubbataha Reefs Natural Park</td>\n",
       "      <td>1014.715492</td>\n",
       "      <td>0.000000</td>\n",
       "      <td>0.000000</td>\n",
       "    </tr>\n",
       "    <tr>\n",
       "      <th>14</th>\n",
       "      <td>68918</td>\n",
       "      <td>Whale Sanctuary of El Vizcaino</td>\n",
       "      <td>654.063600</td>\n",
       "      <td>435.751317</td>\n",
       "      <td>0.666222</td>\n",
       "    </tr>\n",
       "    <tr>\n",
       "      <th>15</th>\n",
       "      <td>93767</td>\n",
       "      <td>Gough and Inaccessible Islands</td>\n",
       "      <td>4042.270234</td>\n",
       "      <td>61.127439</td>\n",
       "      <td>0.015122</td>\n",
       "    </tr>\n",
       "    <tr>\n",
       "      <th>16</th>\n",
       "      <td>124383</td>\n",
       "      <td>Belize Barrier Reef Reserve System</td>\n",
       "      <td>1076.716180</td>\n",
       "      <td>0.000000</td>\n",
       "      <td>0.000000</td>\n",
       "    </tr>\n",
       "    <tr>\n",
       "      <th>17</th>\n",
       "      <td>145576</td>\n",
       "      <td>Heard and McDonald Islands</td>\n",
       "      <td>6147.673893</td>\n",
       "      <td>1956.951306</td>\n",
       "      <td>0.318324</td>\n",
       "    </tr>\n",
       "    <tr>\n",
       "      <th>18</th>\n",
       "      <td>145579</td>\n",
       "      <td>Macquarie Island</td>\n",
       "      <td>5609.752427</td>\n",
       "      <td>5369.608916</td>\n",
       "      <td>0.957192</td>\n",
       "    </tr>\n",
       "    <tr>\n",
       "      <th>19</th>\n",
       "      <td>145580</td>\n",
       "      <td>The Sundarbans</td>\n",
       "      <td>661.922842</td>\n",
       "      <td>0.000000</td>\n",
       "      <td>0.000000</td>\n",
       "    </tr>\n",
       "    <tr>\n",
       "      <th>20</th>\n",
       "      <td>145582</td>\n",
       "      <td>Cocos Island National Park</td>\n",
       "      <td>1895.823867</td>\n",
       "      <td>874.122382</td>\n",
       "      <td>0.461078</td>\n",
       "    </tr>\n",
       "    <tr>\n",
       "      <th>21</th>\n",
       "      <td>168239</td>\n",
       "      <td>New Zealand Sub-Antarctic Islands</td>\n",
       "      <td>14042.719299</td>\n",
       "      <td>6273.421768</td>\n",
       "      <td>0.446738</td>\n",
       "    </tr>\n",
       "    <tr>\n",
       "      <th>22</th>\n",
       "      <td>168242</td>\n",
       "      <td>East Rennell</td>\n",
       "      <td>502.991500</td>\n",
       "      <td>41.915958</td>\n",
       "      <td>0.083333</td>\n",
       "    </tr>\n",
       "    <tr>\n",
       "      <th>23</th>\n",
       "      <td>198291</td>\n",
       "      <td>Península Valdés</td>\n",
       "      <td>68.113432</td>\n",
       "      <td>19.211481</td>\n",
       "      <td>0.282051</td>\n",
       "    </tr>\n",
       "    <tr>\n",
       "      <th>24</th>\n",
       "      <td>198296</td>\n",
       "      <td>Area de Conservación Guanacaste</td>\n",
       "      <td>509.977493</td>\n",
       "      <td>84.705166</td>\n",
       "      <td>0.166096</td>\n",
       "    </tr>\n",
       "    <tr>\n",
       "      <th>25</th>\n",
       "      <td>198302</td>\n",
       "      <td>iSimangaliso Wetland Park</td>\n",
       "      <td>853.164402</td>\n",
       "      <td>6.985993</td>\n",
       "      <td>0.008188</td>\n",
       "    </tr>\n",
       "    <tr>\n",
       "      <th>26</th>\n",
       "      <td>198303</td>\n",
       "      <td>Ibiza, Biodiversity and Culture</td>\n",
       "      <td>76.845924</td>\n",
       "      <td>0.000000</td>\n",
       "      <td>0.000000</td>\n",
       "    </tr>\n",
       "    <tr>\n",
       "      <th>27</th>\n",
       "      <td>478638</td>\n",
       "      <td>The Wadden Sea</td>\n",
       "      <td>10710.400610</td>\n",
       "      <td>301.270951</td>\n",
       "      <td>0.028129</td>\n",
       "    </tr>\n",
       "    <tr>\n",
       "      <th>28</th>\n",
       "      <td>478642</td>\n",
       "      <td>High Coast / Kvarken Archipelago</td>\n",
       "      <td>2448.590567</td>\n",
       "      <td>3.492997</td>\n",
       "      <td>0.001427</td>\n",
       "    </tr>\n",
       "    <tr>\n",
       "      <th>29</th>\n",
       "      <td>900631</td>\n",
       "      <td>Brazilian Atlantic Islands: Fernando de Noronh...</td>\n",
       "      <td>124.874626</td>\n",
       "      <td>0.873249</td>\n",
       "      <td>0.006993</td>\n",
       "    </tr>\n",
       "    <tr>\n",
       "      <th>30</th>\n",
       "      <td>900889</td>\n",
       "      <td>Ha Long Bay</td>\n",
       "      <td>418.286334</td>\n",
       "      <td>8.732491</td>\n",
       "      <td>0.020877</td>\n",
       "    </tr>\n",
       "    <tr>\n",
       "      <th>31</th>\n",
       "      <td>902356</td>\n",
       "      <td>Natural System of Wrangel Island Reserve</td>\n",
       "      <td>8799.731508</td>\n",
       "      <td>5246.480788</td>\n",
       "      <td>0.596209</td>\n",
       "    </tr>\n",
       "    <tr>\n",
       "      <th>32</th>\n",
       "      <td>902368</td>\n",
       "      <td>St Kilda</td>\n",
       "      <td>243.636508</td>\n",
       "      <td>0.873249</td>\n",
       "      <td>0.003584</td>\n",
       "    </tr>\n",
       "    <tr>\n",
       "      <th>33</th>\n",
       "      <td>902479</td>\n",
       "      <td>Coiba National Park and its Special Zone of Ma...</td>\n",
       "      <td>3838.803186</td>\n",
       "      <td>38.422962</td>\n",
       "      <td>0.010009</td>\n",
       "    </tr>\n",
       "    <tr>\n",
       "      <th>34</th>\n",
       "      <td>902481</td>\n",
       "      <td>Islands and Protected Areas of the Gulf of Cal...</td>\n",
       "      <td>15533.355569</td>\n",
       "      <td>1768.329493</td>\n",
       "      <td>0.113841</td>\n",
       "    </tr>\n",
       "    <tr>\n",
       "      <th>35</th>\n",
       "      <td>902482</td>\n",
       "      <td>Shiretoko</td>\n",
       "      <td>200.847300</td>\n",
       "      <td>1.746498</td>\n",
       "      <td>0.008696</td>\n",
       "    </tr>\n",
       "    <tr>\n",
       "      <th>36</th>\n",
       "      <td>902489</td>\n",
       "      <td>West Norwegian Fjords – Geirangerfjord and Nær...</td>\n",
       "      <td>82.958668</td>\n",
       "      <td>6.985993</td>\n",
       "      <td>0.084211</td>\n",
       "    </tr>\n",
       "    <tr>\n",
       "      <th>37</th>\n",
       "      <td>902899</td>\n",
       "      <td>Malpelo Fauna and Flora Sanctuary</td>\n",
       "      <td>9677.346886</td>\n",
       "      <td>144.086107</td>\n",
       "      <td>0.014889</td>\n",
       "    </tr>\n",
       "    <tr>\n",
       "      <th>38</th>\n",
       "      <td>903134</td>\n",
       "      <td>Lagoons of New Caledonia: Reef Diversity and A...</td>\n",
       "      <td>15528.989323</td>\n",
       "      <td>93.437657</td>\n",
       "      <td>0.006017</td>\n",
       "    </tr>\n",
       "    <tr>\n",
       "      <th>39</th>\n",
       "      <td>903138</td>\n",
       "      <td>Socotra Archipelago</td>\n",
       "      <td>1176.266581</td>\n",
       "      <td>169.410332</td>\n",
       "      <td>0.144024</td>\n",
       "    </tr>\n",
       "    <tr>\n",
       "      <th>40</th>\n",
       "      <td>903139</td>\n",
       "      <td>Surtsey</td>\n",
       "      <td>29.690471</td>\n",
       "      <td>0.000000</td>\n",
       "      <td>0.000000</td>\n",
       "    </tr>\n",
       "    <tr>\n",
       "      <th>41</th>\n",
       "      <td>555512001</td>\n",
       "      <td>Papahānaumokuākea</td>\n",
       "      <td>366727.959180</td>\n",
       "      <td>956.207800</td>\n",
       "      <td>0.002607</td>\n",
       "    </tr>\n",
       "    <tr>\n",
       "      <th>42</th>\n",
       "      <td>555512002</td>\n",
       "      <td>Phoenix Islands Protected Area</td>\n",
       "      <td>408725.129708</td>\n",
       "      <td>23492.148162</td>\n",
       "      <td>0.057477</td>\n",
       "    </tr>\n",
       "    <tr>\n",
       "      <th>43</th>\n",
       "      <td>555542336</td>\n",
       "      <td>Ogasawara Islands</td>\n",
       "      <td>58.507692</td>\n",
       "      <td>0.000000</td>\n",
       "      <td>0.000000</td>\n",
       "    </tr>\n",
       "    <tr>\n",
       "      <th>44</th>\n",
       "      <td>555542338</td>\n",
       "      <td>Ningaloo Coast</td>\n",
       "      <td>5330.312705</td>\n",
       "      <td>186.875314</td>\n",
       "      <td>0.035059</td>\n",
       "    </tr>\n",
       "    <tr>\n",
       "      <th>45</th>\n",
       "      <td>555547992</td>\n",
       "      <td>Rock Islands Southern Lagoon</td>\n",
       "      <td>910.798845</td>\n",
       "      <td>2.619747</td>\n",
       "      <td>0.002876</td>\n",
       "    </tr>\n",
       "  </tbody>\n",
       "</table>\n",
       "</div>"
      ],
      "text/plain": [
       "       wdpaid                                            en_name  \\\n",
       "0         191                                  Galápagos Islands   \n",
       "1        2012                           Everglades National Park   \n",
       "2        2018  Kluane / Wrangell-St Elias / Glacier Bay / Tat...   \n",
       "3        2571                                 Great Barrier Reef   \n",
       "4        5001                             Lord Howe Island Group   \n",
       "5        5004                                      Aldabra Atoll   \n",
       "6        9617  Gulf of Porto: Calanche of Piana, Gulf of Giro...   \n",
       "7       14177                           Sundarbans National Park   \n",
       "8       20062                                         Sian Ka'an   \n",
       "9       20388                        Banc d'Arguin National Park   \n",
       "10      67724                       Shark Bay, Western Australia   \n",
       "11      67725                               Komodo National Park   \n",
       "12      67726                          Ujung Kulon National Park   \n",
       "13      68917                       Tubbataha Reefs Natural Park   \n",
       "14      68918                     Whale Sanctuary of El Vizcaino   \n",
       "15      93767                     Gough and Inaccessible Islands   \n",
       "16     124383                 Belize Barrier Reef Reserve System   \n",
       "17     145576                         Heard and McDonald Islands   \n",
       "18     145579                                   Macquarie Island   \n",
       "19     145580                                     The Sundarbans   \n",
       "20     145582                         Cocos Island National Park   \n",
       "21     168239                  New Zealand Sub-Antarctic Islands   \n",
       "22     168242                                       East Rennell   \n",
       "23     198291                                   Península Valdés   \n",
       "24     198296                    Area de Conservación Guanacaste   \n",
       "25     198302                          iSimangaliso Wetland Park   \n",
       "26     198303                    Ibiza, Biodiversity and Culture   \n",
       "27     478638                                     The Wadden Sea   \n",
       "28     478642                   High Coast / Kvarken Archipelago   \n",
       "29     900631  Brazilian Atlantic Islands: Fernando de Noronh...   \n",
       "30     900889                                        Ha Long Bay   \n",
       "31     902356           Natural System of Wrangel Island Reserve   \n",
       "32     902368                                           St Kilda   \n",
       "33     902479  Coiba National Park and its Special Zone of Ma...   \n",
       "34     902481  Islands and Protected Areas of the Gulf of Cal...   \n",
       "35     902482                                          Shiretoko   \n",
       "36     902489  West Norwegian Fjords – Geirangerfjord and Nær...   \n",
       "37     902899                  Malpelo Fauna and Flora Sanctuary   \n",
       "38     903134  Lagoons of New Caledonia: Reef Diversity and A...   \n",
       "39     903138                                Socotra Archipelago   \n",
       "40     903139                                            Surtsey   \n",
       "41  555512001                                  Papahānaumokuākea   \n",
       "42  555512002                     Phoenix Islands Protected Area   \n",
       "43  555542336                                  Ogasawara Islands   \n",
       "44  555542338                                     Ningaloo Coast   \n",
       "45  555547992                       Rock Islands Southern Lagoon   \n",
       "\n",
       "      marine_area  marine_wild_area       per  \n",
       "0   140249.923421       1951.711811  0.013916  \n",
       "1     1953.458309          1.746498  0.000894  \n",
       "2     2197.094817       1352.662906  0.615660  \n",
       "3   348894.465396      78452.702062  0.224861  \n",
       "4     1487.143273          0.000000  0.000000  \n",
       "5      223.551778          5.239495  0.023437  \n",
       "6       30.563720          0.873249  0.028571  \n",
       "7       13.098737          0.000000  0.000000  \n",
       "8     1446.973813          0.000000  0.000000  \n",
       "9     6257.703283        679.387825  0.108568  \n",
       "10   14886.277961       1493.256017  0.100311  \n",
       "11     923.897582          0.000000  0.000000  \n",
       "12     501.245002          3.492997  0.006969  \n",
       "13    1014.715492          0.000000  0.000000  \n",
       "14     654.063600        435.751317  0.666222  \n",
       "15    4042.270234         61.127439  0.015122  \n",
       "16    1076.716180          0.000000  0.000000  \n",
       "17    6147.673893       1956.951306  0.318324  \n",
       "18    5609.752427       5369.608916  0.957192  \n",
       "19     661.922842          0.000000  0.000000  \n",
       "20    1895.823867        874.122382  0.461078  \n",
       "21   14042.719299       6273.421768  0.446738  \n",
       "22     502.991500         41.915958  0.083333  \n",
       "23      68.113432         19.211481  0.282051  \n",
       "24     509.977493         84.705166  0.166096  \n",
       "25     853.164402          6.985993  0.008188  \n",
       "26      76.845924          0.000000  0.000000  \n",
       "27   10710.400610        301.270951  0.028129  \n",
       "28    2448.590567          3.492997  0.001427  \n",
       "29     124.874626          0.873249  0.006993  \n",
       "30     418.286334          8.732491  0.020877  \n",
       "31    8799.731508       5246.480788  0.596209  \n",
       "32     243.636508          0.873249  0.003584  \n",
       "33    3838.803186         38.422962  0.010009  \n",
       "34   15533.355569       1768.329493  0.113841  \n",
       "35     200.847300          1.746498  0.008696  \n",
       "36      82.958668          6.985993  0.084211  \n",
       "37    9677.346886        144.086107  0.014889  \n",
       "38   15528.989323         93.437657  0.006017  \n",
       "39    1176.266581        169.410332  0.144024  \n",
       "40      29.690471          0.000000  0.000000  \n",
       "41  366727.959180        956.207800  0.002607  \n",
       "42  408725.129708      23492.148162  0.057477  \n",
       "43      58.507692          0.000000  0.000000  \n",
       "44    5330.312705        186.875314  0.035059  \n",
       "45     910.798845          2.619747  0.002876  "
      ]
     },
     "execution_count": 278,
     "metadata": {},
     "output_type": "execute_result"
    }
   ],
   "source": [
    "G_result = pd.merge(G_base, G_wh, how='left', on=('wdpaid', 'en_name'))\n",
    "G_result.fillna(0, inplace=True)\n",
    "G_result.columns = ['wdpaid', 'en_name', 'marine_area', 'marine_wild_area']\n",
    "G_result['per'] = G_result.marine_wild_area/G_result.marine_area\n",
    "# G_result.to_csv('export_wh_per_.csv')\n",
    "\n",
    "G_result"
   ]
  },
  {
   "cell_type": "code",
   "execution_count": 279,
   "metadata": {
    "collapsed": false
   },
   "outputs": [
    {
     "data": {
      "text/plain": [
       "(Index(['wdpaid', 'ras_val'], dtype='object'),\n",
       " Index(['OBJECTID_12', 'ras_val'], dtype='object'))"
      ]
     },
     "execution_count": 279,
     "metadata": {},
     "output_type": "execute_result"
    }
   ],
   "source": [
    "wh47.columns, int_wh.columns"
   ]
  },
  {
   "cell_type": "code",
   "execution_count": 280,
   "metadata": {
    "collapsed": false
   },
   "outputs": [
    {
     "data": {
      "text/plain": [
       "Index(['OBJECTID_12', 'ras_val', 'wdpaid', 'en_name', 'fr_name', 'status_yr',\n",
       "       'rep_area', 'gis_area', 'country', 'crit', 'unesid',\n",
       "       'FID_meow_meowv_pelagic_no_antarctica', 'PROVINCE_P', 'BIOME_P',\n",
       "       'REALM_P', 'ECO_CODE', 'ECOREGION', 'PROV_CODE', 'PROVINCE', 'RLM_CODE',\n",
       "       'REALM', 'ALT_CODE', 'ECO_CODE_X', 'category', 'Shape_Length',\n",
       "       'Shape_Area'],\n",
       "      dtype='object')"
      ]
     },
     "execution_count": 280,
     "metadata": {},
     "output_type": "execute_result"
    }
   ],
   "source": [
    "wh47_int = pd.merge(int_wh, int_wh_attr, on='OBJECTID_12')\n",
    "wh47_int.columns"
   ]
  },
  {
   "cell_type": "code",
   "execution_count": 281,
   "metadata": {
    "collapsed": false
   },
   "outputs": [],
   "source": [
    "# compare differences from the two methods\n",
    "a = wh47.groupby('wdpaid').ras_val.count().reset_index()\n",
    "b = wh47_int.groupby('wdpaid').ras_val.count().reset_index()\n",
    "c = pd.merge(a, b, on='wdpaid', suffixes=('_wh', '_int'))\n",
    "c['per'] = abs(c.ras_val_wh - c.ras_val_int)/c.ras_val_wh\n",
    "# c\n",
    "\n",
    "del a, b, c"
   ]
  },
  {
   "cell_type": "markdown",
   "metadata": {},
   "source": [
    "There are considerable differences in percentage between the two methods to calculate marine areas within WH sites at first glance, however at the site scale, apart from wrangel Island, the differences are quite negliable. "
   ]
  },
  {
   "cell_type": "markdown",
   "metadata": {
    "collapsed": true
   },
   "source": [
    "### 2. the gap analysis\n",
    "The below is an overlay map between existing marine WH sites on top of wilderness identified.\n",
    "![dist-gap](dist_EEZ_WH.png)"
   ]
  },
  {
   "cell_type": "code",
   "execution_count": 282,
   "metadata": {
    "collapsed": false
   },
   "outputs": [
    {
     "data": {
      "text/plain": [
       "Index(['OBJECTID_12', 'wdpaid', 'en_name', 'fr_name', 'status_yr', 'rep_area',\n",
       "       'gis_area', 'country', 'crit', 'unesid',\n",
       "       'FID_meow_meowv_pelagic_no_antarctica', 'PROVINCE_P', 'BIOME_P',\n",
       "       'REALM_P', 'ECO_CODE', 'ECOREGION', 'PROV_CODE', 'PROVINCE', 'RLM_CODE',\n",
       "       'REALM', 'ALT_CODE', 'ECO_CODE_X', 'category', 'Shape_Length',\n",
       "       'Shape_Area', 'ras_val'],\n",
       "      dtype='object')"
      ]
     },
     "execution_count": 282,
     "metadata": {},
     "output_type": "execute_result"
    }
   ],
   "source": [
    "# the data to be used\n",
    "## wh intersection\n",
    "\n",
    "# filter pixels that meet the new threshold (from EEZ)\n",
    "int_wh_filter = int_wh[int_wh.ras_val < new_threshold]\n",
    "\n",
    "# group value based on OBJECTID\n",
    "int_wh_filter_group = int_wh_filter.groupby('OBJECTID_12').count().reset_index()\n",
    "\n",
    "# attr join\n",
    "int_result = pd.merge(int_wh_attr, int_wh_filter_group, on='OBJECTID_12')\n",
    "int_result.columns"
   ]
  },
  {
   "cell_type": "code",
   "execution_count": 283,
   "metadata": {
    "collapsed": false
   },
   "outputs": [
    {
     "data": {
      "text/plain": [
       "PROVINCE\n",
       "Arctic                                                      [902356]\n",
       "Central Polynesia                                        [555512002]\n",
       "Cold Temperate Northeast Pacific                              [2018]\n",
       "Cold Temperate Northwest Pacific                            [902482]\n",
       "East Central Australian Shelf                                 [2571]\n",
       "Eastern Coral Triangle                                      [168242]\n",
       "Galapagos                                                      [191]\n",
       "Hawaii                                                   [555512001]\n",
       "Java Transitional                                            [67726]\n",
       "Lusitanian                                                   [20388]\n",
       "Magellanic                                                  [198291]\n",
       "Mediterranean Sea                                             [9617]\n",
       "Northeast Australian Shelf                                    [2571]\n",
       "Northern European Seas              [478642, 902368, 478638, 902489]\n",
       "Northwest Australian Shelf                               [555542338]\n",
       "Red Sea and Gulf of Aden                                    [903138]\n",
       "South China Sea                                             [900889]\n",
       "Southern New Zealand                                        [168239]\n",
       "Subantarctic Islands                                [145576, 145579]\n",
       "Subantarctic New Zealand                                    [168239]\n",
       "Tristan Gough                                                [93767]\n",
       "Tropical East Pacific               [198296, 145582, 902479, 902899]\n",
       "Tropical Northwestern Atlantic                                [2012]\n",
       "Tropical Northwestern Pacific                            [555547992]\n",
       "Tropical Southwestern Atlantic                              [900631]\n",
       "Tropical Southwestern Pacific                         [2571, 903134]\n",
       "Warm Temperate Northeast Pacific                     [902481, 68918]\n",
       "West African Transition                                      [20388]\n",
       "West Central Australian Shelf                     [555542338, 67724]\n",
       "Western Indian Ocean                                  [5004, 198302]\n",
       "Name: wdpaid, dtype: object"
      ]
     },
     "execution_count": 283,
     "metadata": {},
     "output_type": "execute_result"
    }
   ],
   "source": [
    "# get unique WDPAIDs for each province\n",
    "int_result.groupby('PROVINCE').wdpaid.unique()"
   ]
  },
  {
   "cell_type": "code",
   "execution_count": 284,
   "metadata": {
    "collapsed": false
   },
   "outputs": [],
   "source": [
    "# get province MEOW (200m + 200nm)\n",
    "province = calculate_wilderness_marine(new_threshold, ['PROVINCE'])\n",
    "\n",
    "# provinces with WH sites, nunique() return unique number of WDPAIDs\n",
    "province_wh_number = pd.merge(province, int_result.groupby('PROVINCE').wdpaid.nunique().reset_index(), on='PROVINCE', how='left')"
   ]
  },
  {
   "cell_type": "markdown",
   "metadata": {},
   "source": [
    "The above does not say anything about wilderness, although by linking it with the provinces of wilderness values it could potentially identify prioirity provinces, however the above does not address the questions of how much of widerness is covered by WH sites. It could be a well 'represented' province may have little of its vast wilderness enjoying WH status, thus it may still presents a gap, from the point of view of marine wilderness."
   ]
  },
  {
   "cell_type": "code",
   "execution_count": 285,
   "metadata": {
    "collapsed": false
   },
   "outputs": [],
   "source": [
    "# WH area that are wilderness area within provinces \n",
    "province_wh_wilderness = (int_result.groupby('PROVINCE').ras_val.sum() * cell_size).reset_index()\n",
    "\n",
    "# get province attributes and joi\n",
    "a = pd.merge(province, province_wh_wilderness, on='PROVINCE', how = 'left')\n",
    "\n",
    "# fill all NAs with 0\n",
    "a.fillna(0,inplace=True)\n",
    "\n",
    "# calculate percentage of province wilderness covered by WH\n",
    "a['per_wilderness_covered_by_WH'] = a.ras_val/a.less_than_threshold\n",
    "a.columns = ['PROVINCE', 'wilderness_area', 'per_wilderness_area', 'total_area', 'wh_wilderness_area', a.columns[-1]]\n",
    "\n",
    "\n",
    "# ======== now get number of WH sites per Province into one single dataframe ==========\n",
    "\n",
    "## num of WH sites\n",
    "b = int_result.groupby('PROVINCE').wdpaid.nunique().reset_index()\n",
    "b.columns = ['PROVINCE', 'num_wh']\n",
    "\n",
    "## merge \n",
    "a = pd.merge(a, b, how='left', on='PROVINCE')\n",
    "a.fillna(0, inplace=True)\n",
    "\n",
    "# a.sort_values('num_wh')\n",
    "a.to_csv('export_gap_meow_province.csv')\n",
    "\n",
    "# clear temp variable in case of polluting the global name space\n",
    "del a"
   ]
  }
 ],
 "metadata": {
  "kernelspec": {
   "display_name": "Python 3",
   "language": "python",
   "name": "python3"
  },
  "language_info": {
   "codemirror_mode": {
    "name": "ipython",
    "version": 3
   },
   "file_extension": ".py",
   "mimetype": "text/x-python",
   "name": "python",
   "nbconvert_exporter": "python",
   "pygments_lexer": "ipython3",
   "version": "3.4.4"
  }
 },
 "nbformat": 4,
 "nbformat_minor": 0
}
